{
  "cells": [
    {
      "cell_type": "code",
      "execution_count": null,
      "metadata": {
        "id": "YYIoQW58Lxh0"
      },
      "outputs": [],
      "source": [
        "import pandas as pd\n",
        "import numpy as np\n",
        "import matplotlib.pyplot as plt\n",
        "import seaborn as sns\n",
        "import os\n",
        "from sklearn.model_selection import train_test_split\n",
        "import keras\n",
        "import keras_tuner as kt\n",
        "\n"
      ]
    },
    {
      "cell_type": "code",
      "execution_count": 2,
      "metadata": {
        "id": "DoLrL7rLAAkS"
      },
      "outputs": [],
      "source": [
        "import tensorflow as tf\n",
        "from tensorflow import keras\n"
      ]
    },
    {
      "cell_type": "markdown",
      "metadata": {
        "id": "bxEq1sm9Lz7y"
      },
      "source": []
    },
    {
      "cell_type": "code",
      "execution_count": 3,
      "metadata": {
        "id": "WMHea4JEZYqT"
      },
      "outputs": [],
      "source": [
        "data_path='/Users/yaminguo/Desktop/GYM/Work/LST/code/DLR/ABI_surfrad_match_2021_2023'"
      ]
    },
    {
      "cell_type": "code",
      "execution_count": 4,
      "metadata": {
        "id": "DOfQAF47Zs4b"
      },
      "outputs": [],
      "source": [
        "data_raw=pd.read_pickle(data_path)"
      ]
    },
    {
      "cell_type": "code",
      "execution_count": 5,
      "metadata": {
        "colab": {
          "base_uri": "https://localhost:8080/",
          "height": 429
        },
        "id": "gxO8l-ilaNgw",
        "outputId": "edbd3818-9f00-494d-f422-f634ef1ee224"
      },
      "outputs": [
        {
          "data": {
            "text/html": [
              "<div>\n",
              "<style scoped>\n",
              "    .dataframe tbody tr th:only-of-type {\n",
              "        vertical-align: middle;\n",
              "    }\n",
              "\n",
              "    .dataframe tbody tr th {\n",
              "        vertical-align: top;\n",
              "    }\n",
              "\n",
              "    .dataframe thead th {\n",
              "        text-align: right;\n",
              "    }\n",
              "</style>\n",
              "<table border=\"1\" class=\"dataframe\">\n",
              "  <thead>\n",
              "    <tr style=\"text-align: right;\">\n",
              "      <th></th>\n",
              "      <th>year</th>\n",
              "      <th>jday</th>\n",
              "      <th>month</th>\n",
              "      <th>day</th>\n",
              "      <th>hour</th>\n",
              "      <th>zen</th>\n",
              "      <th>dwsolar</th>\n",
              "      <th>qc_dwsolar</th>\n",
              "      <th>uwsolar</th>\n",
              "      <th>qc_uwsolar</th>\n",
              "      <th>...</th>\n",
              "      <th>lon</th>\n",
              "      <th>elv</th>\n",
              "      <th>ABI_time</th>\n",
              "      <th>sitename</th>\n",
              "      <th>CTH</th>\n",
              "      <th>DQF_CTH</th>\n",
              "      <th>CTT</th>\n",
              "      <th>DQF_CTT</th>\n",
              "      <th>COD</th>\n",
              "      <th>DQF_COD</th>\n",
              "    </tr>\n",
              "  </thead>\n",
              "  <tbody>\n",
              "    <tr>\n",
              "      <th>0</th>\n",
              "      <td>2021.0</td>\n",
              "      <td>135.0</td>\n",
              "      <td>5.0</td>\n",
              "      <td>15.0</td>\n",
              "      <td>11.0</td>\n",
              "      <td>81.605500</td>\n",
              "      <td>19.495000</td>\n",
              "      <td>0.0</td>\n",
              "      <td>5.190000</td>\n",
              "      <td>0.0</td>\n",
              "      <td>...</td>\n",
              "      <td>-88.37</td>\n",
              "      <td>213.0</td>\n",
              "      <td>2021-05-15 11:00:00</td>\n",
              "      <td>Bondville</td>\n",
              "      <td>8184.037598</td>\n",
              "      <td>0.0</td>\n",
              "      <td>232.841751</td>\n",
              "      <td>0.0</td>\n",
              "      <td>1.997253</td>\n",
              "      <td>5.0</td>\n",
              "    </tr>\n",
              "    <tr>\n",
              "      <th>1</th>\n",
              "      <td>2021.0</td>\n",
              "      <td>135.0</td>\n",
              "      <td>5.0</td>\n",
              "      <td>15.0</td>\n",
              "      <td>17.0</td>\n",
              "      <td>21.810172</td>\n",
              "      <td>224.175862</td>\n",
              "      <td>0.0</td>\n",
              "      <td>49.563793</td>\n",
              "      <td>0.0</td>\n",
              "      <td>...</td>\n",
              "      <td>-88.37</td>\n",
              "      <td>213.0</td>\n",
              "      <td>2021-05-15 17:00:00</td>\n",
              "      <td>Bondville</td>\n",
              "      <td>9140.850586</td>\n",
              "      <td>0.0</td>\n",
              "      <td>231.789413</td>\n",
              "      <td>0.0</td>\n",
              "      <td>44.647648</td>\n",
              "      <td>0.0</td>\n",
              "    </tr>\n",
              "    <tr>\n",
              "      <th>2</th>\n",
              "      <td>2021.0</td>\n",
              "      <td>135.0</td>\n",
              "      <td>5.0</td>\n",
              "      <td>15.0</td>\n",
              "      <td>18.0</td>\n",
              "      <td>22.781296</td>\n",
              "      <td>218.757407</td>\n",
              "      <td>0.0</td>\n",
              "      <td>47.946296</td>\n",
              "      <td>0.0</td>\n",
              "      <td>...</td>\n",
              "      <td>-88.37</td>\n",
              "      <td>213.0</td>\n",
              "      <td>2021-05-15 18:00:00</td>\n",
              "      <td>Bondville</td>\n",
              "      <td>8186.479004</td>\n",
              "      <td>0.0</td>\n",
              "      <td>240.581726</td>\n",
              "      <td>0.0</td>\n",
              "      <td>29.348392</td>\n",
              "      <td>0.0</td>\n",
              "    </tr>\n",
              "    <tr>\n",
              "      <th>3</th>\n",
              "      <td>2021.0</td>\n",
              "      <td>135.0</td>\n",
              "      <td>5.0</td>\n",
              "      <td>15.0</td>\n",
              "      <td>21.0</td>\n",
              "      <td>51.781818</td>\n",
              "      <td>89.103030</td>\n",
              "      <td>0.0</td>\n",
              "      <td>18.872727</td>\n",
              "      <td>0.0</td>\n",
              "      <td>...</td>\n",
              "      <td>-88.37</td>\n",
              "      <td>213.0</td>\n",
              "      <td>2021-05-15 21:00:00</td>\n",
              "      <td>Bondville</td>\n",
              "      <td>8334.197266</td>\n",
              "      <td>0.0</td>\n",
              "      <td>237.959412</td>\n",
              "      <td>0.0</td>\n",
              "      <td>25.837328</td>\n",
              "      <td>0.0</td>\n",
              "    </tr>\n",
              "    <tr>\n",
              "      <th>4</th>\n",
              "      <td>2021.0</td>\n",
              "      <td>135.0</td>\n",
              "      <td>5.0</td>\n",
              "      <td>15.0</td>\n",
              "      <td>1.0</td>\n",
              "      <td>95.584310</td>\n",
              "      <td>-0.832759</td>\n",
              "      <td>0.0</td>\n",
              "      <td>0.112069</td>\n",
              "      <td>0.0</td>\n",
              "      <td>...</td>\n",
              "      <td>-88.37</td>\n",
              "      <td>213.0</td>\n",
              "      <td>2021-05-15 01:00:00</td>\n",
              "      <td>Bondville</td>\n",
              "      <td>968.716553</td>\n",
              "      <td>0.0</td>\n",
              "      <td>NaN</td>\n",
              "      <td>4.0</td>\n",
              "      <td>NaN</td>\n",
              "      <td>7.0</td>\n",
              "    </tr>\n",
              "  </tbody>\n",
              "</table>\n",
              "<p>5 rows × 57 columns</p>\n",
              "</div>"
            ],
            "text/plain": [
              "     year   jday  month   day  hour        zen     dwsolar  qc_dwsolar  \\\n",
              "0  2021.0  135.0    5.0  15.0  11.0  81.605500   19.495000         0.0   \n",
              "1  2021.0  135.0    5.0  15.0  17.0  21.810172  224.175862         0.0   \n",
              "2  2021.0  135.0    5.0  15.0  18.0  22.781296  218.757407         0.0   \n",
              "3  2021.0  135.0    5.0  15.0  21.0  51.781818   89.103030         0.0   \n",
              "4  2021.0  135.0    5.0  15.0   1.0  95.584310   -0.832759         0.0   \n",
              "\n",
              "     uwsolar  qc_uwsolar  ...    lon    elv             ABI_time   sitename  \\\n",
              "0   5.190000         0.0  ... -88.37  213.0  2021-05-15 11:00:00  Bondville   \n",
              "1  49.563793         0.0  ... -88.37  213.0  2021-05-15 17:00:00  Bondville   \n",
              "2  47.946296         0.0  ... -88.37  213.0  2021-05-15 18:00:00  Bondville   \n",
              "3  18.872727         0.0  ... -88.37  213.0  2021-05-15 21:00:00  Bondville   \n",
              "4   0.112069         0.0  ... -88.37  213.0  2021-05-15 01:00:00  Bondville   \n",
              "\n",
              "           CTH  DQF_CTH         CTT  DQF_CTT        COD  DQF_COD  \n",
              "0  8184.037598      0.0  232.841751      0.0   1.997253      5.0  \n",
              "1  9140.850586      0.0  231.789413      0.0  44.647648      0.0  \n",
              "2  8186.479004      0.0  240.581726      0.0  29.348392      0.0  \n",
              "3  8334.197266      0.0  237.959412      0.0  25.837328      0.0  \n",
              "4   968.716553      0.0         NaN      4.0        NaN      7.0  \n",
              "\n",
              "[5 rows x 57 columns]"
            ]
          },
          "execution_count": 5,
          "metadata": {},
          "output_type": "execute_result"
        }
      ],
      "source": [
        "data_raw.head()"
      ]
    },
    {
      "cell_type": "code",
      "execution_count": 6,
      "metadata": {
        "id": "0V3M4SQragHX"
      },
      "outputs": [],
      "source": [
        "def cloudQC_filter(alldata):\n",
        "    alldata.loc[alldata['DQF_CTH'] == 4, 'CTH'] = 0\n",
        "    invalid_DQF_CTH = [3, 1, 6, 2, 5]\n",
        "    alldata.loc[alldata['DQF_CTH'].isin(invalid_DQF_CTH), 'CTH'] = np.nan\n",
        "\n",
        "    alldata.loc[alldata['DQF_CTT'] == 4, 'CTT'] = 0\n",
        "    invalid_DQF_CTH = [3, 1, 6, 2, 5]\n",
        "    alldata.loc[alldata['DQF_CTT'].isin(invalid_DQF_CTH), 'CTT'] = np.nan\n",
        "\n",
        "    DQF_COD_raw = alldata['DQF_COD'].fillna(99).astype(int).values\n",
        "    DQF_COD_mask = (DQF_COD_raw & 30)\n",
        "    DQF_COD_mask2 = np.where(DQF_COD_raw == 99, np.nan, DQF_COD_mask)\n",
        "    alldata['DQF_COD_msk'] = DQF_COD_mask2\n",
        "\n",
        "    alldata.loc[alldata['DQF_COD_msk'] == 6, 'COD'] = 0\n",
        "    invalid_DQF_COD = [2, 4, 8, 10, 12, 14, 16]\n",
        "    alldata.loc[alldata['DQF_COD_msk'].isin(invalid_DQF_COD), 'COD'] = np.nan\n",
        "    alldata = alldata.dropna()\n",
        "    return alldata"
      ]
    },
    {
      "cell_type": "code",
      "execution_count": 17,
      "metadata": {
        "colab": {
          "base_uri": "https://localhost:8080/",
          "height": 465
        },
        "id": "374NdFL1anhz",
        "outputId": "f0ad8211-cd87-416f-dd71-4f562613e24e"
      },
      "outputs": [
        {
          "name": "stderr",
          "output_type": "stream",
          "text": [
            "/var/folders/n1/zydkpbg91lb27p4jtp0w1q340000gq/T/ipykernel_58465/122459390.py:10: FutureWarning: Downcasting object dtype arrays on .fillna, .ffill, .bfill is deprecated and will change in a future version. Call result.infer_objects(copy=False) instead. To opt-in to the future behavior, set `pd.set_option('future.no_silent_downcasting', True)`\n",
            "  DQF_COD_raw = alldata['DQF_COD'].fillna(99).astype(int).values\n"
          ]
        },
        {
          "data": {
            "text/html": [
              "<div>\n",
              "<style scoped>\n",
              "    .dataframe tbody tr th:only-of-type {\n",
              "        vertical-align: middle;\n",
              "    }\n",
              "\n",
              "    .dataframe tbody tr th {\n",
              "        vertical-align: top;\n",
              "    }\n",
              "\n",
              "    .dataframe thead th {\n",
              "        text-align: right;\n",
              "    }\n",
              "</style>\n",
              "<table border=\"1\" class=\"dataframe\">\n",
              "  <thead>\n",
              "    <tr style=\"text-align: right;\">\n",
              "      <th></th>\n",
              "      <th>year</th>\n",
              "      <th>jday</th>\n",
              "      <th>month</th>\n",
              "      <th>day</th>\n",
              "      <th>hour</th>\n",
              "      <th>zen</th>\n",
              "      <th>dwsolar</th>\n",
              "      <th>qc_dwsolar</th>\n",
              "      <th>uwsolar</th>\n",
              "      <th>qc_uwsolar</th>\n",
              "      <th>...</th>\n",
              "      <th>windspd</th>\n",
              "      <th>qc_windspd</th>\n",
              "      <th>winddir</th>\n",
              "      <th>qc_winddir</th>\n",
              "      <th>pressure</th>\n",
              "      <th>qc_pressure</th>\n",
              "      <th>lat</th>\n",
              "      <th>lon</th>\n",
              "      <th>elv</th>\n",
              "      <th>DQF_COD_msk</th>\n",
              "    </tr>\n",
              "  </thead>\n",
              "  <tbody>\n",
              "    <tr>\n",
              "      <th>count</th>\n",
              "      <td>126722.000000</td>\n",
              "      <td>126722.000000</td>\n",
              "      <td>126722.000000</td>\n",
              "      <td>126722.000000</td>\n",
              "      <td>126722.000000</td>\n",
              "      <td>126722.000000</td>\n",
              "      <td>126722.000000</td>\n",
              "      <td>126722.0</td>\n",
              "      <td>126722.000000</td>\n",
              "      <td>126722.000000</td>\n",
              "      <td>...</td>\n",
              "      <td>126722.000000</td>\n",
              "      <td>126722.0</td>\n",
              "      <td>126722.000000</td>\n",
              "      <td>126722.0</td>\n",
              "      <td>126722.000000</td>\n",
              "      <td>126722.000000</td>\n",
              "      <td>126722.000000</td>\n",
              "      <td>126722.000000</td>\n",
              "      <td>126722.000000</td>\n",
              "      <td>126722.000000</td>\n",
              "    </tr>\n",
              "    <tr>\n",
              "      <th>mean</th>\n",
              "      <td>2021.810175</td>\n",
              "      <td>177.823756</td>\n",
              "      <td>6.358880</td>\n",
              "      <td>15.619514</td>\n",
              "      <td>10.992669</td>\n",
              "      <td>92.797031</td>\n",
              "      <td>178.268159</td>\n",
              "      <td>0.0</td>\n",
              "      <td>36.245185</td>\n",
              "      <td>0.000276</td>\n",
              "      <td>...</td>\n",
              "      <td>3.655619</td>\n",
              "      <td>0.0</td>\n",
              "      <td>179.903929</td>\n",
              "      <td>0.0</td>\n",
              "      <td>944.686920</td>\n",
              "      <td>0.000017</td>\n",
              "      <td>40.446367</td>\n",
              "      <td>-96.935740</td>\n",
              "      <td>637.526988</td>\n",
              "      <td>2.615205</td>\n",
              "    </tr>\n",
              "    <tr>\n",
              "      <th>std</th>\n",
              "      <td>0.749011</td>\n",
              "      <td>105.743865</td>\n",
              "      <td>3.460278</td>\n",
              "      <td>8.768290</td>\n",
              "      <td>6.769923</td>\n",
              "      <td>38.000226</td>\n",
              "      <td>276.882231</td>\n",
              "      <td>0.0</td>\n",
              "      <td>157.647814</td>\n",
              "      <td>0.014720</td>\n",
              "      <td>...</td>\n",
              "      <td>2.592324</td>\n",
              "      <td>0.0</td>\n",
              "      <td>87.203300</td>\n",
              "      <td>0.0</td>\n",
              "      <td>56.542474</td>\n",
              "      <td>0.003977</td>\n",
              "      <td>4.216424</td>\n",
              "      <td>11.938579</td>\n",
              "      <td>507.825065</td>\n",
              "      <td>2.975232</td>\n",
              "    </tr>\n",
              "    <tr>\n",
              "      <th>min</th>\n",
              "      <td>2021.000000</td>\n",
              "      <td>1.000000</td>\n",
              "      <td>1.000000</td>\n",
              "      <td>1.000000</td>\n",
              "      <td>0.000000</td>\n",
              "      <td>12.795500</td>\n",
              "      <td>-7.388333</td>\n",
              "      <td>0.0</td>\n",
              "      <td>-9999.900000</td>\n",
              "      <td>0.000000</td>\n",
              "      <td>...</td>\n",
              "      <td>0.000000</td>\n",
              "      <td>0.0</td>\n",
              "      <td>0.000000</td>\n",
              "      <td>0.0</td>\n",
              "      <td>499.900000</td>\n",
              "      <td>0.000000</td>\n",
              "      <td>34.250000</td>\n",
              "      <td>-116.020000</td>\n",
              "      <td>98.000000</td>\n",
              "      <td>0.000000</td>\n",
              "    </tr>\n",
              "    <tr>\n",
              "      <th>25%</th>\n",
              "      <td>2021.000000</td>\n",
              "      <td>83.000000</td>\n",
              "      <td>3.000000</td>\n",
              "      <td>8.000000</td>\n",
              "      <td>5.000000</td>\n",
              "      <td>58.937250</td>\n",
              "      <td>-1.521667</td>\n",
              "      <td>0.0</td>\n",
              "      <td>-0.315000</td>\n",
              "      <td>0.000000</td>\n",
              "      <td>...</td>\n",
              "      <td>1.793333</td>\n",
              "      <td>0.0</td>\n",
              "      <td>110.786250</td>\n",
              "      <td>0.0</td>\n",
              "      <td>906.554167</td>\n",
              "      <td>0.000000</td>\n",
              "      <td>36.624000</td>\n",
              "      <td>-105.237000</td>\n",
              "      <td>213.000000</td>\n",
              "      <td>0.000000</td>\n",
              "    </tr>\n",
              "    <tr>\n",
              "      <th>50%</th>\n",
              "      <td>2022.000000</td>\n",
              "      <td>176.000000</td>\n",
              "      <td>6.000000</td>\n",
              "      <td>16.000000</td>\n",
              "      <td>10.000000</td>\n",
              "      <td>99.587833</td>\n",
              "      <td>-0.786667</td>\n",
              "      <td>0.0</td>\n",
              "      <td>0.093333</td>\n",
              "      <td>0.000000</td>\n",
              "      <td>...</td>\n",
              "      <td>3.038333</td>\n",
              "      <td>0.0</td>\n",
              "      <td>179.908333</td>\n",
              "      <td>0.0</td>\n",
              "      <td>963.265000</td>\n",
              "      <td>0.000000</td>\n",
              "      <td>40.125000</td>\n",
              "      <td>-96.620000</td>\n",
              "      <td>473.000000</td>\n",
              "      <td>0.000000</td>\n",
              "    </tr>\n",
              "    <tr>\n",
              "      <th>75%</th>\n",
              "      <td>2022.000000</td>\n",
              "      <td>269.000000</td>\n",
              "      <td>9.000000</td>\n",
              "      <td>23.000000</td>\n",
              "      <td>17.000000</td>\n",
              "      <td>122.095292</td>\n",
              "      <td>320.962083</td>\n",
              "      <td>0.0</td>\n",
              "      <td>72.551250</td>\n",
              "      <td>0.000000</td>\n",
              "      <td>...</td>\n",
              "      <td>4.918333</td>\n",
              "      <td>0.0</td>\n",
              "      <td>249.632917</td>\n",
              "      <td>0.0</td>\n",
              "      <td>988.333333</td>\n",
              "      <td>0.000000</td>\n",
              "      <td>43.730000</td>\n",
              "      <td>-88.370000</td>\n",
              "      <td>1007.000000</td>\n",
              "      <td>6.000000</td>\n",
              "    </tr>\n",
              "    <tr>\n",
              "      <th>max</th>\n",
              "      <td>2023.000000</td>\n",
              "      <td>365.000000</td>\n",
              "      <td>12.000000</td>\n",
              "      <td>31.000000</td>\n",
              "      <td>23.000000</td>\n",
              "      <td>168.450625</td>\n",
              "      <td>1146.026667</td>\n",
              "      <td>0.0</td>\n",
              "      <td>729.822222</td>\n",
              "      <td>1.000000</td>\n",
              "      <td>...</td>\n",
              "      <td>25.968333</td>\n",
              "      <td>0.0</td>\n",
              "      <td>355.363333</td>\n",
              "      <td>0.0</td>\n",
              "      <td>1025.970000</td>\n",
              "      <td>1.000000</td>\n",
              "      <td>48.310000</td>\n",
              "      <td>-77.930000</td>\n",
              "      <td>1689.000000</td>\n",
              "      <td>6.000000</td>\n",
              "    </tr>\n",
              "  </tbody>\n",
              "</table>\n",
              "<p>8 rows × 50 columns</p>\n",
              "</div>"
            ],
            "text/plain": [
              "                year           jday          month            day  \\\n",
              "count  126722.000000  126722.000000  126722.000000  126722.000000   \n",
              "mean     2021.810175     177.823756       6.358880      15.619514   \n",
              "std         0.749011     105.743865       3.460278       8.768290   \n",
              "min      2021.000000       1.000000       1.000000       1.000000   \n",
              "25%      2021.000000      83.000000       3.000000       8.000000   \n",
              "50%      2022.000000     176.000000       6.000000      16.000000   \n",
              "75%      2022.000000     269.000000       9.000000      23.000000   \n",
              "max      2023.000000     365.000000      12.000000      31.000000   \n",
              "\n",
              "                hour            zen        dwsolar  qc_dwsolar        uwsolar  \\\n",
              "count  126722.000000  126722.000000  126722.000000    126722.0  126722.000000   \n",
              "mean       10.992669      92.797031     178.268159         0.0      36.245185   \n",
              "std         6.769923      38.000226     276.882231         0.0     157.647814   \n",
              "min         0.000000      12.795500      -7.388333         0.0   -9999.900000   \n",
              "25%         5.000000      58.937250      -1.521667         0.0      -0.315000   \n",
              "50%        10.000000      99.587833      -0.786667         0.0       0.093333   \n",
              "75%        17.000000     122.095292     320.962083         0.0      72.551250   \n",
              "max        23.000000     168.450625    1146.026667         0.0     729.822222   \n",
              "\n",
              "          qc_uwsolar  ...        windspd  qc_windspd        winddir  \\\n",
              "count  126722.000000  ...  126722.000000    126722.0  126722.000000   \n",
              "mean        0.000276  ...       3.655619         0.0     179.903929   \n",
              "std         0.014720  ...       2.592324         0.0      87.203300   \n",
              "min         0.000000  ...       0.000000         0.0       0.000000   \n",
              "25%         0.000000  ...       1.793333         0.0     110.786250   \n",
              "50%         0.000000  ...       3.038333         0.0     179.908333   \n",
              "75%         0.000000  ...       4.918333         0.0     249.632917   \n",
              "max         1.000000  ...      25.968333         0.0     355.363333   \n",
              "\n",
              "       qc_winddir       pressure    qc_pressure            lat            lon  \\\n",
              "count    126722.0  126722.000000  126722.000000  126722.000000  126722.000000   \n",
              "mean          0.0     944.686920       0.000017      40.446367     -96.935740   \n",
              "std           0.0      56.542474       0.003977       4.216424      11.938579   \n",
              "min           0.0     499.900000       0.000000      34.250000    -116.020000   \n",
              "25%           0.0     906.554167       0.000000      36.624000    -105.237000   \n",
              "50%           0.0     963.265000       0.000000      40.125000     -96.620000   \n",
              "75%           0.0     988.333333       0.000000      43.730000     -88.370000   \n",
              "max           0.0    1025.970000       1.000000      48.310000     -77.930000   \n",
              "\n",
              "                 elv    DQF_COD_msk  \n",
              "count  126722.000000  126722.000000  \n",
              "mean      637.526988       2.615205  \n",
              "std       507.825065       2.975232  \n",
              "min        98.000000       0.000000  \n",
              "25%       213.000000       0.000000  \n",
              "50%       473.000000       0.000000  \n",
              "75%      1007.000000       6.000000  \n",
              "max      1689.000000       6.000000  \n",
              "\n",
              "[8 rows x 50 columns]"
            ]
          },
          "execution_count": 17,
          "metadata": {},
          "output_type": "execute_result"
        }
      ],
      "source": [
        "data_raw=cloudQC_filter(data_raw)\n",
        "\n",
        "# data_raw.head()\n",
        "\n",
        "data_raw=data_raw[data_raw.pressure>0]\n",
        "a=data_raw.describe()\n",
        "a"
      ]
    },
    {
      "cell_type": "code",
      "execution_count": 20,
      "metadata": {
        "id": "gyMA7M3VduHL"
      },
      "outputs": [],
      "source": [
        "features=['lat', 'lon', 'elv', 'jday', 'hour','zen', 'temp','rh','windspd', 'pressure','CTT','CTH','COD','year']\n",
        "label=['dwir']"
      ]
    },
    {
      "cell_type": "markdown",
      "metadata": {
        "id": "NX5gMrvwd-jb"
      },
      "source": [
        "**Data Preprocessing**"
      ]
    },
    {
      "cell_type": "code",
      "execution_count": 21,
      "metadata": {
        "id": "85RFztpzfYdt"
      },
      "outputs": [
        {
          "data": {
            "text/plain": [
              "(126722, 1)"
            ]
          },
          "execution_count": 21,
          "metadata": {},
          "output_type": "execute_result"
        }
      ],
      "source": [
        "Y = data_raw[label]\n",
        "X = data_raw[features]\n",
        "Y.shape"
      ]
    },
    {
      "cell_type": "code",
      "execution_count": 25,
      "metadata": {},
      "outputs": [
        {
          "data": {
            "text/plain": [
              "Text(0, 0.5, 'Frequency')"
            ]
          },
          "execution_count": 25,
          "metadata": {},
          "output_type": "execute_result"
        },
        {
          "data": {
            "image/png": "[encoded data removed]",
            "text/plain": [
              "<Figure size 640x480 with 1 Axes>"
            ]
          },
          "metadata": {},
          "output_type": "display_data"
        }
      ],
      "source": [
        "plt.hist(Y)\n",
        "plt.xlabel('DLR(W/m2)')\n",
        "plt.ylabel('Frequency')"
      ]
    },
    {
      "cell_type": "code",
      "execution_count": 26,
      "metadata": {
        "id": "aw1SGk_gd7Kc"
      },
      "outputs": [],
      "source": [
        "X_train, X_test, Y_train, Y_test = train_test_split(X, Y,test_size=0.3,random_state=6)"
      ]
    },
    {
      "cell_type": "code",
      "execution_count": null,
      "metadata": {
        "id": "FVnUHMfm5TLU"
      },
      "outputs": [],
      "source": [
        "# Train_alldata = data_raw.loc[data_raw.year != 2023]\n",
        "# Test_alldata = data_raw.loc[data_raw.year == 2023]\n",
        "# X_train = Train_alldata[features]\n",
        "# X_test = Test_alldata[features]\n",
        "# Y_train = Train_alldata[label]\n",
        "# Y_test = Test_alldata[label]"
      ]
    },
    {
      "cell_type": "code",
      "execution_count": null,
      "metadata": {
        "id": "0ys7Cc-66hbF"
      },
      "outputs": [],
      "source": [
        "# Train_alldata = data_raw.loc[data_raw.elv != 213.0]\n",
        "# Test_alldata = data_raw.loc[data_raw.elv == 213.0]\n",
        "# X_train = Train_alldata[features]\n",
        "# X_test = Test_alldata[features]\n",
        "# Y_train = Train_alldata[label]\n",
        "# Y_test = Test_alldata[label]"
      ]
    },
    {
      "cell_type": "code",
      "execution_count": 27,
      "metadata": {
        "id": "mt1UUjnKPA4c"
      },
      "outputs": [],
      "source": [
        "from sklearn.preprocessing import MinMaxScaler"
      ]
    },
    {
      "cell_type": "code",
      "execution_count": 28,
      "metadata": {
        "id": "ZKfl5Dz9PKLf"
      },
      "outputs": [],
      "source": [
        "scaler_input = MinMaxScaler()\n",
        "scaler_label = MinMaxScaler()"
      ]
    },
    {
      "cell_type": "code",
      "execution_count": 29,
      "metadata": {
        "colab": {
          "base_uri": "https://localhost:8080/",
          "height": 80
        },
        "id": "RA8V6b-NUIDn",
        "outputId": "e5e73e60-ebe0-4f86-a71a-88f21d229023"
      },
      "outputs": [
        {
          "data": {
            "text/html": [
              "<style>#sk-container-id-1 {\n",
              "  /* Definition of color scheme common for light and dark mode */\n",
              "  --sklearn-color-text: #000;\n",
              "  --sklearn-color-text-muted: #666;\n",
              "  --sklearn-color-line: gray;\n",
              "  /* Definition of color scheme for unfitted estimators */\n",
              "  --sklearn-color-unfitted-level-0: #fff5e6;\n",
              "  --sklearn-color-unfitted-level-1: #f6e4d2;\n",
              "  --sklearn-color-unfitted-level-2: #ffe0b3;\n",
              "  --sklearn-color-unfitted-level-3: chocolate;\n",
              "  /* Definition of color scheme for fitted estimators */\n",
              "  --sklearn-color-fitted-level-0: #f0f8ff;\n",
              "  --sklearn-color-fitted-level-1: #d4ebff;\n",
              "  --sklearn-color-fitted-level-2: #b3dbfd;\n",
              "  --sklearn-color-fitted-level-3: cornflowerblue;\n",
              "\n",
              "  /* Specific color for light theme */\n",
              "  --sklearn-color-text-on-default-background: var(--sg-text-color, var(--theme-code-foreground, var(--jp-content-font-color1, black)));\n",
              "  --sklearn-color-background: var(--sg-background-color, var(--theme-background, var(--jp-layout-color0, white)));\n",
              "  --sklearn-color-border-box: var(--sg-text-color, var(--theme-code-foreground, var(--jp-content-font-color1, black)));\n",
              "  --sklearn-color-icon: #696969;\n",
              "\n",
              "  @media (prefers-color-scheme: dark) {\n",
              "    /* Redefinition of color scheme for dark theme */\n",
              "    --sklearn-color-text-on-default-background: var(--sg-text-color, var(--theme-code-foreground, var(--jp-content-font-color1, white)));\n",
              "    --sklearn-color-background: var(--sg-background-color, var(--theme-background, var(--jp-layout-color0, #111)));\n",
              "    --sklearn-color-border-box: var(--sg-text-color, var(--theme-code-foreground, var(--jp-content-font-color1, white)));\n",
              "    --sklearn-color-icon: #878787;\n",
              "  }\n",
              "}\n",
              "\n",
              "#sk-container-id-1 {\n",
              "  color: var(--sklearn-color-text);\n",
              "}\n",
              "\n",
              "#sk-container-id-1 pre {\n",
              "  padding: 0;\n",
              "}\n",
              "\n",
              "#sk-container-id-1 input.sk-hidden--visually {\n",
              "  border: 0;\n",
              "  clip: rect(1px 1px 1px 1px);\n",
              "  clip: rect(1px, 1px, 1px, 1px);\n",
              "  height: 1px;\n",
              "  margin: -1px;\n",
              "  overflow: hidden;\n",
              "  padding: 0;\n",
              "  position: absolute;\n",
              "  width: 1px;\n",
              "}\n",
              "\n",
              "#sk-container-id-1 div.sk-dashed-wrapped {\n",
              "  border: 1px dashed var(--sklearn-color-line);\n",
              "  margin: 0 0.4em 0.5em 0.4em;\n",
              "  box-sizing: border-box;\n",
              "  padding-bottom: 0.4em;\n",
              "  background-color: var(--sklearn-color-background);\n",
              "}\n",
              "\n",
              "#sk-container-id-1 div.sk-container {\n",
              "  /* jupyter's `normalize.less` sets `[hidden] { display: none; }`\n",
              "     but bootstrap.min.css set `[hidden] { display: none !important; }`\n",
              "     so we also need the `!important` here to be able to override the\n",
              "     default hidden behavior on the sphinx rendered scikit-learn.org.\n",
              "     See: https://github.com/scikit-learn/scikit-learn/issues/21755 */\n",
              "  display: inline-block !important;\n",
              "  position: relative;\n",
              "}\n",
              "\n",
              "#sk-container-id-1 div.sk-text-repr-fallback {\n",
              "  display: none;\n",
              "}\n",
              "\n",
              "div.sk-parallel-item,\n",
              "div.sk-serial,\n",
              "div.sk-item {\n",
              "  /* draw centered vertical line to link estimators */\n",
              "  background-image: linear-gradient(var(--sklearn-color-text-on-default-background), var(--sklearn-color-text-on-default-background));\n",
              "  background-size: 2px 100%;\n",
              "  background-repeat: no-repeat;\n",
              "  background-position: center center;\n",
              "}\n",
              "\n",
              "/* Parallel-specific style estimator block */\n",
              "\n",
              "#sk-container-id-1 div.sk-parallel-item::after {\n",
              "  content: \"\";\n",
              "  width: 100%;\n",
              "  border-bottom: 2px solid var(--sklearn-color-text-on-default-background);\n",
              "  flex-grow: 1;\n",
              "}\n",
              "\n",
              "#sk-container-id-1 div.sk-parallel {\n",
              "  display: flex;\n",
              "  align-items: stretch;\n",
              "  justify-content: center;\n",
              "  background-color: var(--sklearn-color-background);\n",
              "  position: relative;\n",
              "}\n",
              "\n",
              "#sk-container-id-1 div.sk-parallel-item {\n",
              "  display: flex;\n",
              "  flex-direction: column;\n",
              "}\n",
              "\n",
              "#sk-container-id-1 div.sk-parallel-item:first-child::after {\n",
              "  align-self: flex-end;\n",
              "  width: 50%;\n",
              "}\n",
              "\n",
              "#sk-container-id-1 div.sk-parallel-item:last-child::after {\n",
              "  align-self: flex-start;\n",
              "  width: 50%;\n",
              "}\n",
              "\n",
              "#sk-container-id-1 div.sk-parallel-item:only-child::after {\n",
              "  width: 0;\n",
              "}\n",
              "\n",
              "/* Serial-specific style estimator block */\n",
              "\n",
              "#sk-container-id-1 div.sk-serial {\n",
              "  display: flex;\n",
              "  flex-direction: column;\n",
              "  align-items: center;\n",
              "  background-color: var(--sklearn-color-background);\n",
              "  padding-right: 1em;\n",
              "  padding-left: 1em;\n",
              "}\n",
              "\n",
              "\n",
              "/* Toggleable style: style used for estimator/Pipeline/ColumnTransformer box that is\n",
              "clickable and can be expanded/collapsed.\n",
              "- Pipeline and ColumnTransformer use this feature and define the default style\n",
              "- Estimators will overwrite some part of the style using the `sk-estimator` class\n",
              "*/\n",
              "\n",
              "/* Pipeline and ColumnTransformer style (default) */\n",
              "\n",
              "#sk-container-id-1 div.sk-toggleable {\n",
              "  /* Default theme specific background. It is overwritten whether we have a\n",
              "  specific estimator or a Pipeline/ColumnTransformer */\n",
              "  background-color: var(--sklearn-color-background);\n",
              "}\n",
              "\n",
              "/* Toggleable label */\n",
              "#sk-container-id-1 label.sk-toggleable__label {\n",
              "  cursor: pointer;\n",
              "  display: flex;\n",
              "  width: 100%;\n",
              "  margin-bottom: 0;\n",
              "  padding: 0.5em;\n",
              "  box-sizing: border-box;\n",
              "  text-align: center;\n",
              "  align-items: start;\n",
              "  justify-content: space-between;\n",
              "  gap: 0.5em;\n",
              "}\n",
              "\n",
              "#sk-container-id-1 label.sk-toggleable__label .caption {\n",
              "  font-size: 0.6rem;\n",
              "  font-weight: lighter;\n",
              "  color: var(--sklearn-color-text-muted);\n",
              "}\n",
              "\n",
              "#sk-container-id-1 label.sk-toggleable__label-arrow:before {\n",
              "  /* Arrow on the left of the label */\n",
              "  content: \"▸\";\n",
              "  float: left;\n",
              "  margin-right: 0.25em;\n",
              "  color: var(--sklearn-color-icon);\n",
              "}\n",
              "\n",
              "#sk-container-id-1 label.sk-toggleable__label-arrow:hover:before {\n",
              "  color: var(--sklearn-color-text);\n",
              "}\n",
              "\n",
              "/* Toggleable content - dropdown */\n",
              "\n",
              "#sk-container-id-1 div.sk-toggleable__content {\n",
              "  max-height: 0;\n",
              "  max-width: 0;\n",
              "  overflow: hidden;\n",
              "  text-align: left;\n",
              "  /* unfitted */\n",
              "  background-color: var(--sklearn-color-unfitted-level-0);\n",
              "}\n",
              "\n",
              "#sk-container-id-1 div.sk-toggleable__content.fitted {\n",
              "  /* fitted */\n",
              "  background-color: var(--sklearn-color-fitted-level-0);\n",
              "}\n",
              "\n",
              "#sk-container-id-1 div.sk-toggleable__content pre {\n",
              "  margin: 0.2em;\n",
              "  border-radius: 0.25em;\n",
              "  color: var(--sklearn-color-text);\n",
              "  /* unfitted */\n",
              "  background-color: var(--sklearn-color-unfitted-level-0);\n",
              "}\n",
              "\n",
              "#sk-container-id-1 div.sk-toggleable__content.fitted pre {\n",
              "  /* unfitted */\n",
              "  background-color: var(--sklearn-color-fitted-level-0);\n",
              "}\n",
              "\n",
              "#sk-container-id-1 input.sk-toggleable__control:checked~div.sk-toggleable__content {\n",
              "  /* Expand drop-down */\n",
              "  max-height: 200px;\n",
              "  max-width: 100%;\n",
              "  overflow: auto;\n",
              "}\n",
              "\n",
              "#sk-container-id-1 input.sk-toggleable__control:checked~label.sk-toggleable__label-arrow:before {\n",
              "  content: \"▾\";\n",
              "}\n",
              "\n",
              "/* Pipeline/ColumnTransformer-specific style */\n",
              "\n",
              "#sk-container-id-1 div.sk-label input.sk-toggleable__control:checked~label.sk-toggleable__label {\n",
              "  color: var(--sklearn-color-text);\n",
              "  background-color: var(--sklearn-color-unfitted-level-2);\n",
              "}\n",
              "\n",
              "#sk-container-id-1 div.sk-label.fitted input.sk-toggleable__control:checked~label.sk-toggleable__label {\n",
              "  background-color: var(--sklearn-color-fitted-level-2);\n",
              "}\n",
              "\n",
              "/* Estimator-specific style */\n",
              "\n",
              "/* Colorize estimator box */\n",
              "#sk-container-id-1 div.sk-estimator input.sk-toggleable__control:checked~label.sk-toggleable__label {\n",
              "  /* unfitted */\n",
              "  background-color: var(--sklearn-color-unfitted-level-2);\n",
              "}\n",
              "\n",
              "#sk-container-id-1 div.sk-estimator.fitted input.sk-toggleable__control:checked~label.sk-toggleable__label {\n",
              "  /* fitted */\n",
              "  background-color: var(--sklearn-color-fitted-level-2);\n",
              "}\n",
              "\n",
              "#sk-container-id-1 div.sk-label label.sk-toggleable__label,\n",
              "#sk-container-id-1 div.sk-label label {\n",
              "  /* The background is the default theme color */\n",
              "  color: var(--sklearn-color-text-on-default-background);\n",
              "}\n",
              "\n",
              "/* On hover, darken the color of the background */\n",
              "#sk-container-id-1 div.sk-label:hover label.sk-toggleable__label {\n",
              "  color: var(--sklearn-color-text);\n",
              "  background-color: var(--sklearn-color-unfitted-level-2);\n",
              "}\n",
              "\n",
              "/* Label box, darken color on hover, fitted */\n",
              "#sk-container-id-1 div.sk-label.fitted:hover label.sk-toggleable__label.fitted {\n",
              "  color: var(--sklearn-color-text);\n",
              "  background-color: var(--sklearn-color-fitted-level-2);\n",
              "}\n",
              "\n",
              "/* Estimator label */\n",
              "\n",
              "#sk-container-id-1 div.sk-label label {\n",
              "  font-family: monospace;\n",
              "  font-weight: bold;\n",
              "  display: inline-block;\n",
              "  line-height: 1.2em;\n",
              "}\n",
              "\n",
              "#sk-container-id-1 div.sk-label-container {\n",
              "  text-align: center;\n",
              "}\n",
              "\n",
              "/* Estimator-specific */\n",
              "#sk-container-id-1 div.sk-estimator {\n",
              "  font-family: monospace;\n",
              "  border: 1px dotted var(--sklearn-color-border-box);\n",
              "  border-radius: 0.25em;\n",
              "  box-sizing: border-box;\n",
              "  margin-bottom: 0.5em;\n",
              "  /* unfitted */\n",
              "  background-color: var(--sklearn-color-unfitted-level-0);\n",
              "}\n",
              "\n",
              "#sk-container-id-1 div.sk-estimator.fitted {\n",
              "  /* fitted */\n",
              "  background-color: var(--sklearn-color-fitted-level-0);\n",
              "}\n",
              "\n",
              "/* on hover */\n",
              "#sk-container-id-1 div.sk-estimator:hover {\n",
              "  /* unfitted */\n",
              "  background-color: var(--sklearn-color-unfitted-level-2);\n",
              "}\n",
              "\n",
              "#sk-container-id-1 div.sk-estimator.fitted:hover {\n",
              "  /* fitted */\n",
              "  background-color: var(--sklearn-color-fitted-level-2);\n",
              "}\n",
              "\n",
              "/* Specification for estimator info (e.g. \"i\" and \"?\") */\n",
              "\n",
              "/* Common style for \"i\" and \"?\" */\n",
              "\n",
              ".sk-estimator-doc-link,\n",
              "a:link.sk-estimator-doc-link,\n",
              "a:visited.sk-estimator-doc-link {\n",
              "  float: right;\n",
              "  font-size: smaller;\n",
              "  line-height: 1em;\n",
              "  font-family: monospace;\n",
              "  background-color: var(--sklearn-color-background);\n",
              "  border-radius: 1em;\n",
              "  height: 1em;\n",
              "  width: 1em;\n",
              "  text-decoration: none !important;\n",
              "  margin-left: 0.5em;\n",
              "  text-align: center;\n",
              "  /* unfitted */\n",
              "  border: var(--sklearn-color-unfitted-level-1) 1pt solid;\n",
              "  color: var(--sklearn-color-unfitted-level-1);\n",
              "}\n",
              "\n",
              ".sk-estimator-doc-link.fitted,\n",
              "a:link.sk-estimator-doc-link.fitted,\n",
              "a:visited.sk-estimator-doc-link.fitted {\n",
              "  /* fitted */\n",
              "  border: var(--sklearn-color-fitted-level-1) 1pt solid;\n",
              "  color: var(--sklearn-color-fitted-level-1);\n",
              "}\n",
              "\n",
              "/* On hover */\n",
              "div.sk-estimator:hover .sk-estimator-doc-link:hover,\n",
              ".sk-estimator-doc-link:hover,\n",
              "div.sk-label-container:hover .sk-estimator-doc-link:hover,\n",
              ".sk-estimator-doc-link:hover {\n",
              "  /* unfitted */\n",
              "  background-color: var(--sklearn-color-unfitted-level-3);\n",
              "  color: var(--sklearn-color-background);\n",
              "  text-decoration: none;\n",
              "}\n",
              "\n",
              "div.sk-estimator.fitted:hover .sk-estimator-doc-link.fitted:hover,\n",
              ".sk-estimator-doc-link.fitted:hover,\n",
              "div.sk-label-container:hover .sk-estimator-doc-link.fitted:hover,\n",
              ".sk-estimator-doc-link.fitted:hover {\n",
              "  /* fitted */\n",
              "  background-color: var(--sklearn-color-fitted-level-3);\n",
              "  color: var(--sklearn-color-background);\n",
              "  text-decoration: none;\n",
              "}\n",
              "\n",
              "/* Span, style for the box shown on hovering the info icon */\n",
              ".sk-estimator-doc-link span {\n",
              "  display: none;\n",
              "  z-index: 9999;\n",
              "  position: relative;\n",
              "  font-weight: normal;\n",
              "  right: .2ex;\n",
              "  padding: .5ex;\n",
              "  margin: .5ex;\n",
              "  width: min-content;\n",
              "  min-width: 20ex;\n",
              "  max-width: 50ex;\n",
              "  color: var(--sklearn-color-text);\n",
              "  box-shadow: 2pt 2pt 4pt #999;\n",
              "  /* unfitted */\n",
              "  background: var(--sklearn-color-unfitted-level-0);\n",
              "  border: .5pt solid var(--sklearn-color-unfitted-level-3);\n",
              "}\n",
              "\n",
              ".sk-estimator-doc-link.fitted span {\n",
              "  /* fitted */\n",
              "  background: var(--sklearn-color-fitted-level-0);\n",
              "  border: var(--sklearn-color-fitted-level-3);\n",
              "}\n",
              "\n",
              ".sk-estimator-doc-link:hover span {\n",
              "  display: block;\n",
              "}\n",
              "\n",
              "/* \"?\"-specific style due to the `<a>` HTML tag */\n",
              "\n",
              "#sk-container-id-1 a.estimator_doc_link {\n",
              "  float: right;\n",
              "  font-size: 1rem;\n",
              "  line-height: 1em;\n",
              "  font-family: monospace;\n",
              "  background-color: var(--sklearn-color-background);\n",
              "  border-radius: 1rem;\n",
              "  height: 1rem;\n",
              "  width: 1rem;\n",
              "  text-decoration: none;\n",
              "  /* unfitted */\n",
              "  color: var(--sklearn-color-unfitted-level-1);\n",
              "  border: var(--sklearn-color-unfitted-level-1) 1pt solid;\n",
              "}\n",
              "\n",
              "#sk-container-id-1 a.estimator_doc_link.fitted {\n",
              "  /* fitted */\n",
              "  border: var(--sklearn-color-fitted-level-1) 1pt solid;\n",
              "  color: var(--sklearn-color-fitted-level-1);\n",
              "}\n",
              "\n",
              "/* On hover */\n",
              "#sk-container-id-1 a.estimator_doc_link:hover {\n",
              "  /* unfitted */\n",
              "  background-color: var(--sklearn-color-unfitted-level-3);\n",
              "  color: var(--sklearn-color-background);\n",
              "  text-decoration: none;\n",
              "}\n",
              "\n",
              "#sk-container-id-1 a.estimator_doc_link.fitted:hover {\n",
              "  /* fitted */\n",
              "  background-color: var(--sklearn-color-fitted-level-3);\n",
              "}\n",
              "</style><div id=\"sk-container-id-1\" class=\"sk-top-container\"><div class=\"sk-text-repr-fallback\"><pre>MinMaxScaler()</pre><b>In a Jupyter environment, please rerun this cell to show the HTML representation or trust the notebook. <br />On GitHub, the HTML representation is unable to render, please try loading this page with nbviewer.org.</b></div><div class=\"sk-container\" hidden><div class=\"sk-item\"><div class=\"sk-estimator fitted sk-toggleable\"><input class=\"sk-toggleable__control sk-hidden--visually\" id=\"sk-estimator-id-1\" type=\"checkbox\" checked><label for=\"sk-estimator-id-1\" class=\"sk-toggleable__label fitted sk-toggleable__label-arrow\"><div><div>MinMaxScaler</div></div><div><a class=\"sk-estimator-doc-link fitted\" rel=\"noreferrer\" target=\"_blank\" href=\"https://scikit-learn.org/1.6/modules/generated/sklearn.preprocessing.MinMaxScaler.html\">?<span>Documentation for MinMaxScaler</span></a><span class=\"sk-estimator-doc-link fitted\">i<span>Fitted</span></span></div></label><div class=\"sk-toggleable__content fitted\"><pre>MinMaxScaler()</pre></div> </div></div></div></div>"
            ],
            "text/plain": [
              "MinMaxScaler()"
            ]
          },
          "execution_count": 29,
          "metadata": {},
          "output_type": "execute_result"
        }
      ],
      "source": [
        "scaler_input.fit(X_train)\n",
        "scaler_label.fit(Y_train)"
      ]
    },
    {
      "cell_type": "code",
      "execution_count": 30,
      "metadata": {
        "id": "xDb1sVSePOmk"
      },
      "outputs": [],
      "source": [
        "X_train_scaled = scaler_input.transform(X_train)\n",
        "Y_train_scaled = scaler_label.transform(Y_train)"
      ]
    },
    {
      "cell_type": "code",
      "execution_count": null,
      "metadata": {
        "colab": {
          "base_uri": "https://localhost:8080/",
          "height": 430
        },
        "id": "M_oBvMlgUfCR",
        "outputId": "0a7bbd63-ec27-4f5e-d495-29a1fdbeb4ad"
      },
      "outputs": [],
      "source": [
        "plt.plot(range(0,X_train_scaled.shape[0]), X_train_scaled[:,7], c='k')\n",
        "plt.show()"
      ]
    },
    {
      "cell_type": "code",
      "execution_count": null,
      "metadata": {
        "colab": {
          "base_uri": "https://localhost:8080/",
          "height": 430
        },
        "id": "k2hVstWFV9Ru",
        "outputId": "05dd7ff5-7ef3-4f13-ece0-f5544b92541f"
      },
      "outputs": [],
      "source": [
        "plt.plot(range(0,X_train.shape[0]), X_train['rh'], c='k')\n",
        "plt.show()"
      ]
    },
    {
      "cell_type": "code",
      "execution_count": null,
      "metadata": {
        "colab": {
          "base_uri": "https://localhost:8080/",
          "height": 430
        },
        "id": "nkkDIramVYK9",
        "outputId": "ac814df4-4261-4525-adc2-5ffe8c270386"
      },
      "outputs": [],
      "source": [
        "plt.hist(X_train_scaled[:,7])\n",
        "plt.show()"
      ]
    },
    {
      "cell_type": "code",
      "execution_count": null,
      "metadata": {
        "id": "dDspnAtzVmkz"
      },
      "outputs": [],
      "source": [
        "plt.hist(X_train['rh'])\n",
        "plt.show()"
      ]
    },
    {
      "cell_type": "code",
      "execution_count": 37,
      "metadata": {
        "id": "7gNxX4JX_ZMN"
      },
      "outputs": [],
      "source": [
        "def build_model(hp):\n",
        "    model = keras.Sequential()\n",
        "\n",
        "    # first hidden\n",
        "    model.add(keras.layers.Dense(\n",
        "        units=hp.Int(\"units_1\", min_value=64, max_value=512, step=64),\n",
        "        activation=\"relu\",\n",
        "        input_shape=(X_train.shape[1],)\n",
        "    ))\n",
        "\n",
        "    # sencond and third\n",
        "    if hp.Boolean(\"use_second_layer\"):\n",
        "        model.add(keras.layers.Dense(\n",
        "            units=hp.Int(\"units_2\", min_value=32, max_value=256, step=32),\n",
        "            activation=\"relu\"\n",
        "        ))\n",
        "    if hp.Boolean(\"use_third_layer\"):\n",
        "        model.add(keras.layers.Dense(\n",
        "            units=hp.Int(\"units_3\", min_value=32, max_value=256, step=32),\n",
        "            activation=\"relu\"\n",
        "        ))\n",
        "\n",
        "    # Dropout \n",
        "    model.add(keras.layers.Dropout(\n",
        "        rate=hp.Float(\"dropout\", 0.1, 0.5, step=0.1)\n",
        "    ))\n",
        "\n",
        "    # output\n",
        "    model.add(keras.layers.Dense(1, activation=\"linear\"))\n",
        "\n",
        "    # compile\n",
        "    model.compile(\n",
        "        optimizer=keras.optimizers.Adam(\n",
        "            hp.Float(\"learning_rate\", 1e-4, 1e-2, sampling=\"log\")\n",
        "        ),\n",
        "        loss=\"mse\",\n",
        "        metrics=[\"mae\"]\n",
        "    )\n",
        "\n",
        "    return model"
      ]
    },
    {
      "cell_type": "code",
      "execution_count": 38,
      "metadata": {
        "colab": {
          "base_uri": "https://localhost:8080/"
        },
        "id": "Ax8WxsEaBh-K",
        "outputId": "09239f07-2305-4233-c878-df53fdb59dfa"
      },
      "outputs": [
        {
          "ename": "NameError",
          "evalue": "name 'kt' is not defined",
          "output_type": "error",
          "traceback": [
            "\u001b[0;31m---------------------------------------------------------------------------\u001b[0m",
            "\u001b[0;31mNameError\u001b[0m                                 Traceback (most recent call last)",
            "Cell \u001b[0;32mIn[38], line 1\u001b[0m\n\u001b[0;32m----> 1\u001b[0m tuner \u001b[38;5;241m=\u001b[39m kt\u001b[38;5;241m.\u001b[39mRandomSearch(\n\u001b[1;32m      2\u001b[0m     build_model,\n\u001b[1;32m      3\u001b[0m     objective\u001b[38;5;241m=\u001b[39m\u001b[38;5;124m\"\u001b[39m\u001b[38;5;124mval_loss\u001b[39m\u001b[38;5;124m\"\u001b[39m,\n\u001b[1;32m      4\u001b[0m     max_trials\u001b[38;5;241m=\u001b[39m\u001b[38;5;241m20\u001b[39m,\n\u001b[1;32m      5\u001b[0m     executions_per_trial\u001b[38;5;241m=\u001b[39m\u001b[38;5;241m1\u001b[39m,\n\u001b[1;32m      6\u001b[0m     directory\u001b[38;5;241m=\u001b[39m\u001b[38;5;124m\"\u001b[39m\u001b[38;5;124mtuner_dlr\u001b[39m\u001b[38;5;124m\"\u001b[39m,\n\u001b[1;32m      7\u001b[0m     project_name\u001b[38;5;241m=\u001b[39m\u001b[38;5;124m\"\u001b[39m\u001b[38;5;124mdlr_regression\u001b[39m\u001b[38;5;124m\"\u001b[39m\n\u001b[1;32m      8\u001b[0m )\n",
            "\u001b[0;31mNameError\u001b[0m: name 'kt' is not defined"
          ]
        }
      ],
      "source": [
        "tuner = kt.RandomSearch(\n",
        "    build_model,\n",
        "    objective=\"val_loss\",\n",
        "    max_trials=20,\n",
        "    executions_per_trial=1,\n",
        "    directory=\"tuner_dlr\",\n",
        "    project_name=\"dlr_regression\"\n",
        ")"
      ]
    },
    {
      "cell_type": "code",
      "execution_count": null,
      "metadata": {
        "colab": {
          "base_uri": "https://localhost:8080/"
        },
        "id": "V3l0lMsZB0WF",
        "outputId": "c09980ec-b4d2-478d-faba-9c4923099b63"
      },
      "outputs": [],
      "source": [
        "tuner.search(X_train_scaled, Y_train_scaled,\n",
        "             epochs=50,\n",
        "             validation_split=0.1,\n",
        "             callbacks=[keras.callbacks.EarlyStopping(patience=5)])"
      ]
    },
    {
      "cell_type": "code",
      "execution_count": null,
      "metadata": {
        "colab": {
          "base_uri": "https://localhost:8080/"
        },
        "id": "61N9xKk7T9St",
        "outputId": "ad36309a-f788-45c5-d752-85f06f065568"
      },
      "outputs": [],
      "source": [
        "best_hps = tuner.get_best_hyperparameters(1)[0]\n",
        "print(\"Best hyperparameters:\")\n",
        "for param in best_hps.values.keys():\n",
        "    print(f\"{param}: {best_hps.get(param)}\")"
      ]
    },
    {
      "cell_type": "code",
      "execution_count": null,
      "metadata": {
        "colab": {
          "base_uri": "https://localhost:8080/"
        },
        "collapsed": true,
        "id": "8npiVk3pCq0K",
        "outputId": "de3b87ac-ae95-435b-afda-02825f5e5eda"
      },
      "outputs": [],
      "source": [
        "\n",
        "# 构建并训练最终模型\n",
        "model = tuner.hypermodel.build(best_hps)\n",
        "history = model.fit(X_train_scaled, Y_train_scaled,\n",
        "                    epochs=50,\n",
        "                    validation_split=0.1,\n",
        "                    callbacks=[keras.callbacks.EarlyStopping(patience=10)])"
      ]
    },
    {
      "cell_type": "code",
      "execution_count": null,
      "metadata": {
        "id": "vTPtKwmzY2Rp"
      },
      "outputs": [],
      "source": []
    },
    {
      "cell_type": "code",
      "execution_count": null,
      "metadata": {
        "colab": {
          "base_uri": "https://localhost:8080/",
          "height": 430
        },
        "id": "Cb--9voaULyo",
        "outputId": "1ab4d78f-6a30-454c-ced3-aedb5c3b4ec7"
      },
      "outputs": [],
      "source": [
        "plt.plot(range(0,50), history.history['loss'], c='k', label='training')\n",
        "plt.plot(range(0,50), history.history['val_loss'], c='r', label='validation')\n",
        "plt.legend()\n",
        "plt.show()"
      ]
    },
    {
      "cell_type": "markdown",
      "metadata": {
        "id": "pIbSenN7WOnW"
      },
      "source": [
        "Model"
      ]
    },
    {
      "cell_type": "code",
      "execution_count": null,
      "metadata": {
        "id": "RE6S6xXiWKbQ"
      },
      "outputs": [],
      "source": [
        "model = keras.Sequential() # instantiate model object"
      ]
    },
    {
      "cell_type": "code",
      "execution_count": null,
      "metadata": {
        "id": "_QWj-bUCWcWL"
      },
      "outputs": [],
      "source": [
        "model.add(keras.Input(shape=(14,), name=\"input_layer\"))"
      ]
    },
    {
      "cell_type": "code",
      "execution_count": null,
      "metadata": {
        "id": "k3yADTGKWoMX"
      },
      "outputs": [],
      "source": [
        "model.add(\n",
        "    keras.layers.Dense(units=448, activation=keras.activations.relu))\n",
        "model.add(\n",
        "    keras.layers.Dense(units=384, activation=keras.activations.relu))\n",
        "model.add(\n",
        "    keras.layers.Dense(units=256, activation=keras.activations.relu))\n",
        "model.add(\n",
        "    keras.layers.Dropout(\n",
        "        rate=0.3))"
      ]
    },
    {
      "cell_type": "code",
      "execution_count": null,
      "metadata": {
        "id": "4hT0TF5fWwxf"
      },
      "outputs": [],
      "source": [
        "model.add(keras.layers.Dense(units=1,activation=keras.activations.linear))"
      ]
    },
    {
      "cell_type": "code",
      "execution_count": null,
      "metadata": {
        "id": "viNXif7ZW2Lm"
      },
      "outputs": [],
      "source": [
        "model.compile(\n",
        "    optimizer=keras.optimizers.Adam(learning_rate=0.001),\n",
        "    loss='mse'\n",
        ")"
      ]
    },
    {
      "cell_type": "code",
      "execution_count": null,
      "metadata": {
        "colab": {
          "base_uri": "https://localhost:8080/",
          "height": 298
        },
        "id": "Ng9voabZW44g",
        "outputId": "c9e60e9b-1492-4242-8144-7d2d6cf4f2bb"
      },
      "outputs": [],
      "source": [
        "model.summary()"
      ]
    },
    {
      "cell_type": "code",
      "execution_count": null,
      "metadata": {
        "colab": {
          "base_uri": "https://localhost:8080/"
        },
        "id": "eHfjmVNGW855",
        "outputId": "18dd4fd3-9595-41a6-8a13-bc69a74c0162"
      },
      "outputs": [],
      "source": [
        "history = model.fit(\n",
        "    x=X_train_scaled,\n",
        "    y=Y_train_scaled,\n",
        "    batch_size=32,\n",
        "    epochs=50,\n",
        "    verbose='auto',\n",
        "    validation_split=0.1,\n",
        "    validation_data=None,\n",
        "    shuffle=True,\n",
        "    class_weight=None,\n",
        "    sample_weight=None,\n",
        "    initial_epoch=0,\n",
        ")"
      ]
    },
    {
      "cell_type": "code",
      "execution_count": null,
      "metadata": {
        "colab": {
          "base_uri": "https://localhost:8080/",
          "height": 430
        },
        "id": "RZn7AvodX6mK",
        "outputId": "fd8b3615-efaf-4cef-b16e-3b1ba1b61be1"
      },
      "outputs": [],
      "source": [
        "plt.plot(range(0,50), history.history['loss'], c='k', label='training')\n",
        "plt.plot(range(0,50), history.history['val_loss'], c='r', label='validation')\n",
        "plt.legend()\n",
        "plt.show()"
      ]
    },
    {
      "cell_type": "code",
      "execution_count": null,
      "metadata": {
        "id": "3V6sYiaNaMrq"
      },
      "outputs": [],
      "source": [
        "X_test_scaled = scaler_input.transform(X_test)\n",
        "Y_test_scaled = scaler_label.transform(Y_test)"
      ]
    },
    {
      "cell_type": "code",
      "execution_count": null,
      "metadata": {
        "colab": {
          "base_uri": "https://localhost:8080/"
        },
        "id": "dfcpF8n1ae6K",
        "outputId": "ee9fc0b8-f2e4-4e35-ea8c-daf4ebfc78ce"
      },
      "outputs": [],
      "source": [
        "predictions = model.predict(\n",
        "    x=X_test_scaled,\n",
        ")"
      ]
    },
    {
      "cell_type": "code",
      "execution_count": null,
      "metadata": {
        "id": "3IB3QXKfa5_W"
      },
      "outputs": [],
      "source": [
        "Pre_inverse=scaler_label.inverse_transform(predictions)\n",
        "Y_test_inverse=scaler_label.inverse_transform(Y_test_scaled)"
      ]
    },
    {
      "cell_type": "code",
      "execution_count": null,
      "metadata": {
        "id": "gFB8124YGt7z"
      },
      "outputs": [],
      "source": [
        "def multipl(a,b):\n",
        "    sumofab=0.0\n",
        "    for i in range(len(a)):\n",
        "        temp=a[i]*b[i]\n",
        "        sumofab+=temp\n",
        "    return sumofab\n",
        "def correlation(x, y):\n",
        "    n = len(x)\n",
        "    sum1 = sum(x)\n",
        "    sum2 = sum(y)\n",
        "    sumofxy = multipl(x, y)\n",
        "    sumofx2 = sum([pow(i, 2) for i in x])\n",
        "    sumofy2 = sum([pow(j, 2) for j in y])\n",
        "    num = sumofxy - (float(sum1) * float(sum2) / n)\n",
        "    den = np.sqrt((sumofx2 - float(sum1 ** 2) / n) * (sumofy2 - float(sum2 ** 2) / n))\n",
        "    r = num / den\n",
        "    r2 = r * r\n",
        "    return str('%.2f' % (r2))\n",
        "\n",
        "def regress(x,y):\n",
        "    from sklearn import  linear_model\n",
        "    regr = linear_model.LinearRegression()\n",
        "    t = np.array(x)\n",
        "    t = np.array([x]).T\n",
        "    regr.fit(t, y)\n",
        "    #k = str('%.2f'%(regr.intercept_))\n",
        "    #b = str('%.2f'%(regr.coef_))\n",
        "    k = regr.coef_\n",
        "    b = regr.intercept_\n",
        "    KB = [k,b]\n",
        "    return KB\n",
        "def RMSE(x, y):\n",
        "    rmse = np.sqrt(np.mean((x - y) ** 2))\n",
        "    rmse = round(rmse, 2)\n",
        "    return str('%.2f' % (rmse))\n",
        "\n",
        "\n",
        "def MAE(x, y):\n",
        "    mae = np.mean(abs(x - y))\n",
        "    # mae = np.mean(x - y)\n",
        "    mae = round(mae, 2)\n",
        "    return str('%.2f' % (mae))\n",
        "def plot_data(ax, x, y, Xmin, Xmax, Ymin, Ymax, Xinter, Yinter,Lables):\n",
        "    from matplotlib.colors import LogNorm\n",
        "    # z_min = 0\n",
        "    # z_max = 500\n",
        "    nbins = 100\n",
        "    # global plot\n",
        "    H, xedges, yedges = np.histogram2d(x, y, bins=nbins)\n",
        "    H = np.rot90(H)\n",
        "    H = np.flipud(H)\n",
        "    # H_freq = H / H.sum()\n",
        "    Hmasked = np.ma.masked_where(H == 0, H)  # Mask pixels with a value of zero\n",
        "    z_min_dynamic = Hmasked.min()\n",
        "    z_max_dynamic = Hmasked.max()\n",
        "    z_min = z_min_dynamic\n",
        "    z_min = np.percentile(Hmasked.compressed(), 5)\n",
        "    z_max = np.percentile(Hmasked.compressed(), 95)\n",
        "    # norm = LogNorm(vmin=z_min, vmax=z_max)\n",
        "    plot = ax.pcolormesh(xedges, yedges, Hmasked, cmap='jet', vmin=z_min, vmax=z_max)\n",
        "    cbar = plt.colorbar(plot, ax=ax)\n",
        "    # plot = ax.pcolormesh(xedges, yedges, Hmasked, cmap='jet', norm = LogNorm(vmin=z_min, vmax=z_max))\n",
        "    # pt.colorbar()\n",
        "    # cbar.ax.set_yticklabels(('0', '1', '2', '3', '4','5','6','7','8','9','10'),fontname='Calibri',fontsize=14,fontweight='bold')\n",
        "    # cbar.ax.set_ylabel('Frequency')\n",
        "\n",
        "    # y=x\n",
        "    xx = [Xmin, Xmax]\n",
        "    yy = [Xmin, Xmax]\n",
        "    ax.plot(xx, yy, 'k--', linewidth=2.)\n",
        "\n",
        "    aa = regress(x, y)\n",
        "    ax.plot(x, x * aa[0] + aa[1], 'r', linewidth=1.)\n",
        "    k = str('%.2f' % (aa[0]))\n",
        "    b = str('%.2f' % (aa[1]))\n",
        "    ax.set_ylim(Ymin, Ymax)\n",
        "    ax.set_xlim(Xmin, Xmax)\n",
        "    my_x_ticks = np.arange(Xmin, Xmax + Xinter, Xinter)\n",
        "    my_y_ticks = np.arange(Ymin, Ymax + Yinter, Yinter)\n",
        "    ax.set_xticks(my_x_ticks)\n",
        "    ax.set_yticks(my_y_ticks)\n",
        "    ax.set_xlabel(Lables[0], fontname='Calibri', fontsize=16)\n",
        "    ax.set_ylabel(Lables[1], fontname='Calibri', fontsize=16)\n",
        "\n",
        "    ax.set_xlabel(Lables[0], fontname='Calibri', fontsize=16)\n",
        "    ax.set_ylabel(Lables[1], fontname='Calibri', fontsize=16)\n",
        "    ax.text(Xmin + Xinter / 3, Ymax - Yinter / 3, r\"N = \" + str(len(x)),\n",
        "            {'color': 'k', 'fontname': 'Calibri', 'fontsize': 14, 'fontweight': 'bold'})\n",
        "    ax.text(Xmin + Xinter / 3, Ymax - 2 * Yinter / 3, r\"R$^2$ = \" + correlation(x, y),\n",
        "            {'color': 'k', 'fontname': 'Calibri', 'fontsize': 14, 'fontweight': 'bold'})\n",
        "    ax.text(Xmin + Xinter / 3, Ymax - 3 * Yinter / 3, r\"RMSE = \" + RMSE(x, y),\n",
        "            {'color': 'k', 'fontname': 'Calibri', 'fontsize': 14, 'fontweight': 'bold'})\n",
        "    ax.text(Xmin + Xinter / 3, Ymax - 4 * Yinter / 3, r\"MAE = \" + MAE(x, y),\n",
        "            {'color': 'k', 'fontname': 'Calibri', 'fontsize': 14, 'fontweight': 'bold'})\n",
        "    ax.text(Xmin + Xinter / 3, Ymax - 5 * Yinter / 3, r\"Y = \" + k + \" X + \" + b,\n",
        "            {'color': 'k', 'fontname': 'Calibri', 'fontsize': 14, 'fontweight': 'bold'})\n",
        "    ax.set_title(Lables[2])\n",
        "    # plt.colorbar()\n",
        "    result = [len(x), correlation(x, y), RMSE(x, y), MAE(x, y), k, b]\n",
        "    return result\n",
        "def scatterplot(ax, Xdata, Ydata, Xmin, Xmax, Ymin, Ymax, Xinter, Yinter,Lables):\n",
        "    from scipy.stats import gaussian_kde\n",
        "    xy = np.vstack([Xdata, Ydata])  # 将两个维度的数据叠加\n",
        "    z = gaussian_kde(xy)(xy)  # 建立概率密度分布，并计算每个样本点的概率密度\n",
        "    # Sort the points by density, so that the densest points are plotted last\n",
        "    idx = z.argsort()\n",
        "    x, y, z = Xdata[idx], Ydata[idx], z[idx]\n",
        "\n",
        "    plt.scatter(x, y, c=z, s=10, cmap='jet')  # c表示标记的颜色\n",
        "    xx = [Xmin, Xmax]\n",
        "    yy = [Xmin, Xmax]\n",
        "    ax.plot(xx, yy, 'k--', linewidth=0.5)\n",
        "    aa = regress(x, y)\n",
        "    # ax.plot(x, x * aa[0] + aa[1], 'k', linewidth=0.5)\n",
        "    k = str('%.2f' % (aa[0]))\n",
        "    b = str('%.2f' % (aa[1]))\n",
        "    ax.set_ylim(Ymin, Ymax)\n",
        "    ax.set_xlim(Xmin, Xmax)\n",
        "    my_x_ticks = np.arange(Xmin, Xmax + Xinter, Xinter)\n",
        "    my_y_ticks = np.arange(Ymin, Ymax + Yinter, Yinter)\n",
        "    ax.set_xticks(my_x_ticks)\n",
        "    ax.set_yticks(my_y_ticks)\n",
        "    # ax.set_xticklabels(('0', '5', '10', '15', '20'), fontname='Calibri', fontsize=16)\n",
        "    # ax.set_yticklabels(('0', '5', '10', '15', '20'), fontname='Calibri', fontsize=16)\n",
        "    ax.set_xlabel(Lables[0], fontname='Calibri', fontsize=16)\n",
        "    ax.set_ylabel(Lables[1], fontname='Calibri', fontsize=16)\n",
        "    ax.text(Xmin+Xinter/3, Ymax-Yinter/3, r\"N = \" + str(len(Xdata)),\n",
        "            {'color': 'k', 'fontname': 'Calibri', 'fontsize': 14, 'fontweight': 'bold'})\n",
        "    ax.text(Xmin+Xinter/3, Ymax-2*Yinter/3, r\"R$^2$ = \" + correlation(Xdata, Ydata),\n",
        "            {'color': 'k', 'fontname': 'Calibri', 'fontsize': 14, 'fontweight': 'bold'})\n",
        "    ax.text(Xmin+Xinter/3, Ymax-3*Yinter/3, r\"RMSE = \" + RMSE(Xdata, Ydata),\n",
        "            {'color': 'k', 'fontname': 'Calibri', 'fontsize': 14, 'fontweight': 'bold'})\n",
        "    ax.text(Xmin+Xinter/3, Ymax-4*Yinter/3, r\"MAE = \" + MAE(Xdata, Ydata),\n",
        "            {'color': 'k', 'fontname': 'Calibri', 'fontsize': 14, 'fontweight': 'bold'})\n",
        "    ax.text(Xmin+Xinter / 3, Ymax - 5 * Yinter / 3, r\"Y = \"+k+\" X + \"+b,\n",
        "            {'color': 'k', 'fontname': 'Calibri', 'fontsize': 14, 'fontweight': 'bold'})\n",
        "    ax.set_title(Lables[2])\n",
        "    plt.colorbar()\n",
        "    result=[len(Xdata),correlation(Xdata, Ydata),RMSE(Xdata, Ydata),MAE(Xdata, Ydata),k,b]\n",
        "    return result"
      ]
    },
    {
      "cell_type": "code",
      "execution_count": null,
      "metadata": {
        "id": "yYFc-WMiOezv"
      },
      "outputs": [],
      "source": [
        "Y_test_inverse2=Y_test_inverse.reshape(-1)\n",
        "Pre_inverse2=Pre_inverse.reshape(-1)"
      ]
    },
    {
      "cell_type": "code",
      "execution_count": null,
      "metadata": {
        "colab": {
          "base_uri": "https://localhost:8080/",
          "height": 935
        },
        "id": "cw7QNTIVP-q9",
        "outputId": "d93cbe3a-611e-4b75-aec7-46b918596590"
      },
      "outputs": [],
      "source": [
        "fig, ax = plt.subplots()\n",
        "result_sites = scatterplot(ax, Y_test_inverse2, Pre_inverse2, 0, 1000, 0, 1000, 200, 200,\n",
        "                               ['Measured DLR(W/m$^2$)', 'Prediction(W/m$^2$)',   'all sky'])"
      ]
    },
    {
      "cell_type": "code",
      "execution_count": null,
      "metadata": {
        "colab": {
          "base_uri": "https://localhost:8080/",
          "height": 935
        },
        "id": "SvdFOgHcGvU7",
        "outputId": "4f09d869-1d47-47a9-9dd8-fa4844e8ca9a"
      },
      "outputs": [],
      "source": [
        "fig, ax = plt.subplots()\n",
        "result_sites=plot_data(ax, Y_test_inverse2, Pre_inverse2,0, 1000, 0, 1000, 200, 200, ['Measured DLR(W/m$^2$)', 'DLR Prediction(W/m$^2$)', 'Random'+ ':all sky '])\n"
      ]
    },
    {
      "cell_type": "code",
      "execution_count": null,
      "metadata": {
        "id": "X6Zjls18MUZA"
      },
      "outputs": [],
      "source": []
    },
    {
      "cell_type": "code",
      "execution_count": null,
      "metadata": {
        "colab": {
          "base_uri": "https://localhost:8080/",
          "height": 449
        },
        "id": "JdYUnoUUanER",
        "outputId": "943d6f51-0d8d-4aae-bfcb-614a1e1d0e6e"
      },
      "outputs": [],
      "source": [
        "plt.scatter(Y_test_inverse, Pre_inverse)\n",
        "plt.xlabel('Labels')\n",
        "plt.ylabel('ML predictions')\n",
        "plt.show()"
      ]
    }
  ],
  "metadata": {
    "colab": {
      "provenance": []
    },
    "kernelspec": {
      "display_name": "keras-tf-v2025",
      "language": "python",
      "name": "python3"
    },
    "language_info": {
      "codemirror_mode": {
        "name": "ipython",
        "version": 3
      },
      "file_extension": ".py",
      "mimetype": "text/x-python",
      "name": "python",
      "nbconvert_exporter": "python",
      "pygments_lexer": "ipython3",
      "version": "3.12.8"
    }
  },
  "nbformat": 4,
  "nbformat_minor": 0
}
