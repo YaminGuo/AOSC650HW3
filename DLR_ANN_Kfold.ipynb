{
  "cells": [
    {
      "cell_type": "code",
      "execution_count": 10,
      "metadata": {
        "id": "YYIoQW58Lxh0"
      },
      "outputs": [],
      "source": [
        "import pandas as pd\n",
        "import numpy as np\n",
        "import matplotlib.pyplot as plt\n",
        "import seaborn as sns\n",
        "import os\n",
        "from sklearn.model_selection import train_test_split\n",
        "import keras\n",
        "import keras_tuner as kt\n",
        "\n",
        "import tensorflow as tf\n",
        "from tensorflow import keras\n",
        "from sklearn.preprocessing import MinMaxScaler\n",
        "from sklearn.model_selection import KFold\n"
      ]
    },
    {
      "cell_type": "markdown",
      "metadata": {
        "id": "bxEq1sm9Lz7y"
      },
      "source": []
    },
    {
      "cell_type": "code",
      "execution_count": 11,
      "metadata": {
        "id": "WMHea4JEZYqT"
      },
      "outputs": [],
      "source": [
        "data_path='/Users/yaminguo/Desktop/GYM/Work/LST/code/DLR/ABI_surfrad_match_2021_2023'"
      ]
    },
    {
      "cell_type": "code",
      "execution_count": 12,
      "metadata": {
        "id": "DOfQAF47Zs4b"
      },
      "outputs": [],
      "source": [
        "data_raw=pd.read_pickle(data_path)"
      ]
    },
    {
      "cell_type": "code",
      "execution_count": 13,
      "metadata": {
        "colab": {
          "base_uri": "https://localhost:8080/",
          "height": 429
        },
        "id": "gxO8l-ilaNgw",
        "outputId": "edbd3818-9f00-494d-f422-f634ef1ee224"
      },
      "outputs": [
        {
          "data": {
            "text/html": [
              "<div>\n",
              "<style scoped>\n",
              "    .dataframe tbody tr th:only-of-type {\n",
              "        vertical-align: middle;\n",
              "    }\n",
              "\n",
              "    .dataframe tbody tr th {\n",
              "        vertical-align: top;\n",
              "    }\n",
              "\n",
              "    .dataframe thead th {\n",
              "        text-align: right;\n",
              "    }\n",
              "</style>\n",
              "<table border=\"1\" class=\"dataframe\">\n",
              "  <thead>\n",
              "    <tr style=\"text-align: right;\">\n",
              "      <th></th>\n",
              "      <th>year</th>\n",
              "      <th>jday</th>\n",
              "      <th>month</th>\n",
              "      <th>day</th>\n",
              "      <th>hour</th>\n",
              "      <th>zen</th>\n",
              "      <th>dwsolar</th>\n",
              "      <th>qc_dwsolar</th>\n",
              "      <th>uwsolar</th>\n",
              "      <th>qc_uwsolar</th>\n",
              "      <th>...</th>\n",
              "      <th>lon</th>\n",
              "      <th>elv</th>\n",
              "      <th>ABI_time</th>\n",
              "      <th>sitename</th>\n",
              "      <th>CTH</th>\n",
              "      <th>DQF_CTH</th>\n",
              "      <th>CTT</th>\n",
              "      <th>DQF_CTT</th>\n",
              "      <th>COD</th>\n",
              "      <th>DQF_COD</th>\n",
              "    </tr>\n",
              "  </thead>\n",
              "  <tbody>\n",
              "    <tr>\n",
              "      <th>0</th>\n",
              "      <td>2021.0</td>\n",
              "      <td>135.0</td>\n",
              "      <td>5.0</td>\n",
              "      <td>15.0</td>\n",
              "      <td>11.0</td>\n",
              "      <td>81.605500</td>\n",
              "      <td>19.495000</td>\n",
              "      <td>0.0</td>\n",
              "      <td>5.190000</td>\n",
              "      <td>0.0</td>\n",
              "      <td>...</td>\n",
              "      <td>-88.37</td>\n",
              "      <td>213.0</td>\n",
              "      <td>2021-05-15 11:00:00</td>\n",
              "      <td>Bondville</td>\n",
              "      <td>8184.037598</td>\n",
              "      <td>0.0</td>\n",
              "      <td>232.841751</td>\n",
              "      <td>0.0</td>\n",
              "      <td>1.997253</td>\n",
              "      <td>5.0</td>\n",
              "    </tr>\n",
              "    <tr>\n",
              "      <th>1</th>\n",
              "      <td>2021.0</td>\n",
              "      <td>135.0</td>\n",
              "      <td>5.0</td>\n",
              "      <td>15.0</td>\n",
              "      <td>17.0</td>\n",
              "      <td>21.810172</td>\n",
              "      <td>224.175862</td>\n",
              "      <td>0.0</td>\n",
              "      <td>49.563793</td>\n",
              "      <td>0.0</td>\n",
              "      <td>...</td>\n",
              "      <td>-88.37</td>\n",
              "      <td>213.0</td>\n",
              "      <td>2021-05-15 17:00:00</td>\n",
              "      <td>Bondville</td>\n",
              "      <td>9140.850586</td>\n",
              "      <td>0.0</td>\n",
              "      <td>231.789413</td>\n",
              "      <td>0.0</td>\n",
              "      <td>44.647648</td>\n",
              "      <td>0.0</td>\n",
              "    </tr>\n",
              "    <tr>\n",
              "      <th>2</th>\n",
              "      <td>2021.0</td>\n",
              "      <td>135.0</td>\n",
              "      <td>5.0</td>\n",
              "      <td>15.0</td>\n",
              "      <td>18.0</td>\n",
              "      <td>22.781296</td>\n",
              "      <td>218.757407</td>\n",
              "      <td>0.0</td>\n",
              "      <td>47.946296</td>\n",
              "      <td>0.0</td>\n",
              "      <td>...</td>\n",
              "      <td>-88.37</td>\n",
              "      <td>213.0</td>\n",
              "      <td>2021-05-15 18:00:00</td>\n",
              "      <td>Bondville</td>\n",
              "      <td>8186.479004</td>\n",
              "      <td>0.0</td>\n",
              "      <td>240.581726</td>\n",
              "      <td>0.0</td>\n",
              "      <td>29.348392</td>\n",
              "      <td>0.0</td>\n",
              "    </tr>\n",
              "    <tr>\n",
              "      <th>3</th>\n",
              "      <td>2021.0</td>\n",
              "      <td>135.0</td>\n",
              "      <td>5.0</td>\n",
              "      <td>15.0</td>\n",
              "      <td>21.0</td>\n",
              "      <td>51.781818</td>\n",
              "      <td>89.103030</td>\n",
              "      <td>0.0</td>\n",
              "      <td>18.872727</td>\n",
              "      <td>0.0</td>\n",
              "      <td>...</td>\n",
              "      <td>-88.37</td>\n",
              "      <td>213.0</td>\n",
              "      <td>2021-05-15 21:00:00</td>\n",
              "      <td>Bondville</td>\n",
              "      <td>8334.197266</td>\n",
              "      <td>0.0</td>\n",
              "      <td>237.959412</td>\n",
              "      <td>0.0</td>\n",
              "      <td>25.837328</td>\n",
              "      <td>0.0</td>\n",
              "    </tr>\n",
              "    <tr>\n",
              "      <th>4</th>\n",
              "      <td>2021.0</td>\n",
              "      <td>135.0</td>\n",
              "      <td>5.0</td>\n",
              "      <td>15.0</td>\n",
              "      <td>1.0</td>\n",
              "      <td>95.584310</td>\n",
              "      <td>-0.832759</td>\n",
              "      <td>0.0</td>\n",
              "      <td>0.112069</td>\n",
              "      <td>0.0</td>\n",
              "      <td>...</td>\n",
              "      <td>-88.37</td>\n",
              "      <td>213.0</td>\n",
              "      <td>2021-05-15 01:00:00</td>\n",
              "      <td>Bondville</td>\n",
              "      <td>968.716553</td>\n",
              "      <td>0.0</td>\n",
              "      <td>NaN</td>\n",
              "      <td>4.0</td>\n",
              "      <td>NaN</td>\n",
              "      <td>7.0</td>\n",
              "    </tr>\n",
              "  </tbody>\n",
              "</table>\n",
              "<p>5 rows × 57 columns</p>\n",
              "</div>"
            ],
            "text/plain": [
              "     year   jday  month   day  hour        zen     dwsolar  qc_dwsolar  \\\n",
              "0  2021.0  135.0    5.0  15.0  11.0  81.605500   19.495000         0.0   \n",
              "1  2021.0  135.0    5.0  15.0  17.0  21.810172  224.175862         0.0   \n",
              "2  2021.0  135.0    5.0  15.0  18.0  22.781296  218.757407         0.0   \n",
              "3  2021.0  135.0    5.0  15.0  21.0  51.781818   89.103030         0.0   \n",
              "4  2021.0  135.0    5.0  15.0   1.0  95.584310   -0.832759         0.0   \n",
              "\n",
              "     uwsolar  qc_uwsolar  ...    lon    elv             ABI_time   sitename  \\\n",
              "0   5.190000         0.0  ... -88.37  213.0  2021-05-15 11:00:00  Bondville   \n",
              "1  49.563793         0.0  ... -88.37  213.0  2021-05-15 17:00:00  Bondville   \n",
              "2  47.946296         0.0  ... -88.37  213.0  2021-05-15 18:00:00  Bondville   \n",
              "3  18.872727         0.0  ... -88.37  213.0  2021-05-15 21:00:00  Bondville   \n",
              "4   0.112069         0.0  ... -88.37  213.0  2021-05-15 01:00:00  Bondville   \n",
              "\n",
              "           CTH  DQF_CTH         CTT  DQF_CTT        COD  DQF_COD  \n",
              "0  8184.037598      0.0  232.841751      0.0   1.997253      5.0  \n",
              "1  9140.850586      0.0  231.789413      0.0  44.647648      0.0  \n",
              "2  8186.479004      0.0  240.581726      0.0  29.348392      0.0  \n",
              "3  8334.197266      0.0  237.959412      0.0  25.837328      0.0  \n",
              "4   968.716553      0.0         NaN      4.0        NaN      7.0  \n",
              "\n",
              "[5 rows x 57 columns]"
            ]
          },
          "execution_count": 13,
          "metadata": {},
          "output_type": "execute_result"
        }
      ],
      "source": [
        "data_raw.head()"
      ]
    },
    {
      "cell_type": "code",
      "execution_count": 14,
      "metadata": {
        "id": "0V3M4SQragHX"
      },
      "outputs": [],
      "source": [
        "def cloudQC_filter(alldata):\n",
        "    alldata.loc[alldata['DQF_CTH'] == 4, 'CTH'] = 0\n",
        "    invalid_DQF_CTH = [3, 1, 6, 2, 5]\n",
        "    alldata.loc[alldata['DQF_CTH'].isin(invalid_DQF_CTH), 'CTH'] = np.nan\n",
        "\n",
        "    alldata.loc[alldata['DQF_CTT'] == 4, 'CTT'] = 0\n",
        "    invalid_DQF_CTH = [3, 1, 6, 2, 5]\n",
        "    alldata.loc[alldata['DQF_CTT'].isin(invalid_DQF_CTH), 'CTT'] = np.nan\n",
        "\n",
        "    DQF_COD_raw = alldata['DQF_COD'].fillna(99).astype(int).values\n",
        "    DQF_COD_mask = (DQF_COD_raw & 30)\n",
        "    DQF_COD_mask2 = np.where(DQF_COD_raw == 99, np.nan, DQF_COD_mask)\n",
        "    alldata['DQF_COD_msk'] = DQF_COD_mask2\n",
        "\n",
        "    alldata.loc[alldata['DQF_COD_msk'] == 6, 'COD'] = 0\n",
        "    invalid_DQF_COD = [2, 4, 8, 10, 12, 14, 16]\n",
        "    alldata.loc[alldata['DQF_COD_msk'].isin(invalid_DQF_COD), 'COD'] = np.nan\n",
        "    alldata = alldata.dropna()\n",
        "    return alldata"
      ]
    },
    {
      "cell_type": "code",
      "execution_count": 15,
      "metadata": {
        "colab": {
          "base_uri": "https://localhost:8080/",
          "height": 465
        },
        "id": "374NdFL1anhz",
        "outputId": "f0ad8211-cd87-416f-dd71-4f562613e24e"
      },
      "outputs": [
        {
          "name": "stderr",
          "output_type": "stream",
          "text": [
            "/var/folders/n1/zydkpbg91lb27p4jtp0w1q340000gq/T/ipykernel_63148/122459390.py:10: FutureWarning: Downcasting object dtype arrays on .fillna, .ffill, .bfill is deprecated and will change in a future version. Call result.infer_objects(copy=False) instead. To opt-in to the future behavior, set `pd.set_option('future.no_silent_downcasting', True)`\n",
            "  DQF_COD_raw = alldata['DQF_COD'].fillna(99).astype(int).values\n"
          ]
        },
        {
          "data": {
            "text/html": [
              "<div>\n",
              "<style scoped>\n",
              "    .dataframe tbody tr th:only-of-type {\n",
              "        vertical-align: middle;\n",
              "    }\n",
              "\n",
              "    .dataframe tbody tr th {\n",
              "        vertical-align: top;\n",
              "    }\n",
              "\n",
              "    .dataframe thead th {\n",
              "        text-align: right;\n",
              "    }\n",
              "</style>\n",
              "<table border=\"1\" class=\"dataframe\">\n",
              "  <thead>\n",
              "    <tr style=\"text-align: right;\">\n",
              "      <th></th>\n",
              "      <th>year</th>\n",
              "      <th>jday</th>\n",
              "      <th>month</th>\n",
              "      <th>day</th>\n",
              "      <th>hour</th>\n",
              "      <th>zen</th>\n",
              "      <th>dwsolar</th>\n",
              "      <th>qc_dwsolar</th>\n",
              "      <th>uwsolar</th>\n",
              "      <th>qc_uwsolar</th>\n",
              "      <th>...</th>\n",
              "      <th>windspd</th>\n",
              "      <th>qc_windspd</th>\n",
              "      <th>winddir</th>\n",
              "      <th>qc_winddir</th>\n",
              "      <th>pressure</th>\n",
              "      <th>qc_pressure</th>\n",
              "      <th>lat</th>\n",
              "      <th>lon</th>\n",
              "      <th>elv</th>\n",
              "      <th>DQF_COD_msk</th>\n",
              "    </tr>\n",
              "  </thead>\n",
              "  <tbody>\n",
              "    <tr>\n",
              "      <th>count</th>\n",
              "      <td>126722.000000</td>\n",
              "      <td>126722.000000</td>\n",
              "      <td>126722.000000</td>\n",
              "      <td>126722.000000</td>\n",
              "      <td>126722.000000</td>\n",
              "      <td>126722.000000</td>\n",
              "      <td>126722.000000</td>\n",
              "      <td>126722.0</td>\n",
              "      <td>126722.000000</td>\n",
              "      <td>126722.000000</td>\n",
              "      <td>...</td>\n",
              "      <td>126722.000000</td>\n",
              "      <td>126722.0</td>\n",
              "      <td>126722.000000</td>\n",
              "      <td>126722.0</td>\n",
              "      <td>126722.000000</td>\n",
              "      <td>126722.000000</td>\n",
              "      <td>126722.000000</td>\n",
              "      <td>126722.000000</td>\n",
              "      <td>126722.000000</td>\n",
              "      <td>126722.000000</td>\n",
              "    </tr>\n",
              "    <tr>\n",
              "      <th>mean</th>\n",
              "      <td>2021.810175</td>\n",
              "      <td>177.823756</td>\n",
              "      <td>6.358880</td>\n",
              "      <td>15.619514</td>\n",
              "      <td>10.992669</td>\n",
              "      <td>92.797031</td>\n",
              "      <td>178.268159</td>\n",
              "      <td>0.0</td>\n",
              "      <td>36.245185</td>\n",
              "      <td>0.000276</td>\n",
              "      <td>...</td>\n",
              "      <td>3.655619</td>\n",
              "      <td>0.0</td>\n",
              "      <td>179.903929</td>\n",
              "      <td>0.0</td>\n",
              "      <td>944.686920</td>\n",
              "      <td>0.000017</td>\n",
              "      <td>40.446367</td>\n",
              "      <td>-96.935740</td>\n",
              "      <td>637.526988</td>\n",
              "      <td>2.615205</td>\n",
              "    </tr>\n",
              "    <tr>\n",
              "      <th>std</th>\n",
              "      <td>0.749011</td>\n",
              "      <td>105.743865</td>\n",
              "      <td>3.460278</td>\n",
              "      <td>8.768290</td>\n",
              "      <td>6.769923</td>\n",
              "      <td>38.000226</td>\n",
              "      <td>276.882231</td>\n",
              "      <td>0.0</td>\n",
              "      <td>157.647814</td>\n",
              "      <td>0.014720</td>\n",
              "      <td>...</td>\n",
              "      <td>2.592324</td>\n",
              "      <td>0.0</td>\n",
              "      <td>87.203300</td>\n",
              "      <td>0.0</td>\n",
              "      <td>56.542474</td>\n",
              "      <td>0.003977</td>\n",
              "      <td>4.216424</td>\n",
              "      <td>11.938579</td>\n",
              "      <td>507.825065</td>\n",
              "      <td>2.975232</td>\n",
              "    </tr>\n",
              "    <tr>\n",
              "      <th>min</th>\n",
              "      <td>2021.000000</td>\n",
              "      <td>1.000000</td>\n",
              "      <td>1.000000</td>\n",
              "      <td>1.000000</td>\n",
              "      <td>0.000000</td>\n",
              "      <td>12.795500</td>\n",
              "      <td>-7.388333</td>\n",
              "      <td>0.0</td>\n",
              "      <td>-9999.900000</td>\n",
              "      <td>0.000000</td>\n",
              "      <td>...</td>\n",
              "      <td>0.000000</td>\n",
              "      <td>0.0</td>\n",
              "      <td>0.000000</td>\n",
              "      <td>0.0</td>\n",
              "      <td>499.900000</td>\n",
              "      <td>0.000000</td>\n",
              "      <td>34.250000</td>\n",
              "      <td>-116.020000</td>\n",
              "      <td>98.000000</td>\n",
              "      <td>0.000000</td>\n",
              "    </tr>\n",
              "    <tr>\n",
              "      <th>25%</th>\n",
              "      <td>2021.000000</td>\n",
              "      <td>83.000000</td>\n",
              "      <td>3.000000</td>\n",
              "      <td>8.000000</td>\n",
              "      <td>5.000000</td>\n",
              "      <td>58.937250</td>\n",
              "      <td>-1.521667</td>\n",
              "      <td>0.0</td>\n",
              "      <td>-0.315000</td>\n",
              "      <td>0.000000</td>\n",
              "      <td>...</td>\n",
              "      <td>1.793333</td>\n",
              "      <td>0.0</td>\n",
              "      <td>110.786250</td>\n",
              "      <td>0.0</td>\n",
              "      <td>906.554167</td>\n",
              "      <td>0.000000</td>\n",
              "      <td>36.624000</td>\n",
              "      <td>-105.237000</td>\n",
              "      <td>213.000000</td>\n",
              "      <td>0.000000</td>\n",
              "    </tr>\n",
              "    <tr>\n",
              "      <th>50%</th>\n",
              "      <td>2022.000000</td>\n",
              "      <td>176.000000</td>\n",
              "      <td>6.000000</td>\n",
              "      <td>16.000000</td>\n",
              "      <td>10.000000</td>\n",
              "      <td>99.587833</td>\n",
              "      <td>-0.786667</td>\n",
              "      <td>0.0</td>\n",
              "      <td>0.093333</td>\n",
              "      <td>0.000000</td>\n",
              "      <td>...</td>\n",
              "      <td>3.038333</td>\n",
              "      <td>0.0</td>\n",
              "      <td>179.908333</td>\n",
              "      <td>0.0</td>\n",
              "      <td>963.265000</td>\n",
              "      <td>0.000000</td>\n",
              "      <td>40.125000</td>\n",
              "      <td>-96.620000</td>\n",
              "      <td>473.000000</td>\n",
              "      <td>0.000000</td>\n",
              "    </tr>\n",
              "    <tr>\n",
              "      <th>75%</th>\n",
              "      <td>2022.000000</td>\n",
              "      <td>269.000000</td>\n",
              "      <td>9.000000</td>\n",
              "      <td>23.000000</td>\n",
              "      <td>17.000000</td>\n",
              "      <td>122.095292</td>\n",
              "      <td>320.962083</td>\n",
              "      <td>0.0</td>\n",
              "      <td>72.551250</td>\n",
              "      <td>0.000000</td>\n",
              "      <td>...</td>\n",
              "      <td>4.918333</td>\n",
              "      <td>0.0</td>\n",
              "      <td>249.632917</td>\n",
              "      <td>0.0</td>\n",
              "      <td>988.333333</td>\n",
              "      <td>0.000000</td>\n",
              "      <td>43.730000</td>\n",
              "      <td>-88.370000</td>\n",
              "      <td>1007.000000</td>\n",
              "      <td>6.000000</td>\n",
              "    </tr>\n",
              "    <tr>\n",
              "      <th>max</th>\n",
              "      <td>2023.000000</td>\n",
              "      <td>365.000000</td>\n",
              "      <td>12.000000</td>\n",
              "      <td>31.000000</td>\n",
              "      <td>23.000000</td>\n",
              "      <td>168.450625</td>\n",
              "      <td>1146.026667</td>\n",
              "      <td>0.0</td>\n",
              "      <td>729.822222</td>\n",
              "      <td>1.000000</td>\n",
              "      <td>...</td>\n",
              "      <td>25.968333</td>\n",
              "      <td>0.0</td>\n",
              "      <td>355.363333</td>\n",
              "      <td>0.0</td>\n",
              "      <td>1025.970000</td>\n",
              "      <td>1.000000</td>\n",
              "      <td>48.310000</td>\n",
              "      <td>-77.930000</td>\n",
              "      <td>1689.000000</td>\n",
              "      <td>6.000000</td>\n",
              "    </tr>\n",
              "  </tbody>\n",
              "</table>\n",
              "<p>8 rows × 50 columns</p>\n",
              "</div>"
            ],
            "text/plain": [
              "                year           jday          month            day  \\\n",
              "count  126722.000000  126722.000000  126722.000000  126722.000000   \n",
              "mean     2021.810175     177.823756       6.358880      15.619514   \n",
              "std         0.749011     105.743865       3.460278       8.768290   \n",
              "min      2021.000000       1.000000       1.000000       1.000000   \n",
              "25%      2021.000000      83.000000       3.000000       8.000000   \n",
              "50%      2022.000000     176.000000       6.000000      16.000000   \n",
              "75%      2022.000000     269.000000       9.000000      23.000000   \n",
              "max      2023.000000     365.000000      12.000000      31.000000   \n",
              "\n",
              "                hour            zen        dwsolar  qc_dwsolar        uwsolar  \\\n",
              "count  126722.000000  126722.000000  126722.000000    126722.0  126722.000000   \n",
              "mean       10.992669      92.797031     178.268159         0.0      36.245185   \n",
              "std         6.769923      38.000226     276.882231         0.0     157.647814   \n",
              "min         0.000000      12.795500      -7.388333         0.0   -9999.900000   \n",
              "25%         5.000000      58.937250      -1.521667         0.0      -0.315000   \n",
              "50%        10.000000      99.587833      -0.786667         0.0       0.093333   \n",
              "75%        17.000000     122.095292     320.962083         0.0      72.551250   \n",
              "max        23.000000     168.450625    1146.026667         0.0     729.822222   \n",
              "\n",
              "          qc_uwsolar  ...        windspd  qc_windspd        winddir  \\\n",
              "count  126722.000000  ...  126722.000000    126722.0  126722.000000   \n",
              "mean        0.000276  ...       3.655619         0.0     179.903929   \n",
              "std         0.014720  ...       2.592324         0.0      87.203300   \n",
              "min         0.000000  ...       0.000000         0.0       0.000000   \n",
              "25%         0.000000  ...       1.793333         0.0     110.786250   \n",
              "50%         0.000000  ...       3.038333         0.0     179.908333   \n",
              "75%         0.000000  ...       4.918333         0.0     249.632917   \n",
              "max         1.000000  ...      25.968333         0.0     355.363333   \n",
              "\n",
              "       qc_winddir       pressure    qc_pressure            lat            lon  \\\n",
              "count    126722.0  126722.000000  126722.000000  126722.000000  126722.000000   \n",
              "mean          0.0     944.686920       0.000017      40.446367     -96.935740   \n",
              "std           0.0      56.542474       0.003977       4.216424      11.938579   \n",
              "min           0.0     499.900000       0.000000      34.250000    -116.020000   \n",
              "25%           0.0     906.554167       0.000000      36.624000    -105.237000   \n",
              "50%           0.0     963.265000       0.000000      40.125000     -96.620000   \n",
              "75%           0.0     988.333333       0.000000      43.730000     -88.370000   \n",
              "max           0.0    1025.970000       1.000000      48.310000     -77.930000   \n",
              "\n",
              "                 elv    DQF_COD_msk  \n",
              "count  126722.000000  126722.000000  \n",
              "mean      637.526988       2.615205  \n",
              "std       507.825065       2.975232  \n",
              "min        98.000000       0.000000  \n",
              "25%       213.000000       0.000000  \n",
              "50%       473.000000       0.000000  \n",
              "75%      1007.000000       6.000000  \n",
              "max      1689.000000       6.000000  \n",
              "\n",
              "[8 rows x 50 columns]"
            ]
          },
          "execution_count": 15,
          "metadata": {},
          "output_type": "execute_result"
        }
      ],
      "source": [
        "data_raw=cloudQC_filter(data_raw)\n",
        "\n",
        "# data_raw.head()\n",
        "\n",
        "data_raw=data_raw[data_raw.pressure>0]\n",
        "a=data_raw.describe()\n",
        "a"
      ]
    },
    {
      "cell_type": "code",
      "execution_count": 16,
      "metadata": {
        "id": "gyMA7M3VduHL"
      },
      "outputs": [],
      "source": [
        "features=['lat', 'lon', 'elv', 'jday', 'hour','zen', 'temp','rh','windspd', 'pressure','CTT','CTH','COD','year']\n",
        "label=['dwir']"
      ]
    },
    {
      "cell_type": "markdown",
      "metadata": {
        "id": "NX5gMrvwd-jb"
      },
      "source": [
        "**Data Preprocessing**"
      ]
    },
    {
      "cell_type": "code",
      "execution_count": null,
      "metadata": {
        "id": "85RFztpzfYdt"
      },
      "outputs": [
        {
          "data": {
            "text/plain": [
              "(126722, 14)"
            ]
          },
          "execution_count": 17,
          "metadata": {},
          "output_type": "execute_result"
        }
      ],
      "source": [
        "Y = data_raw[label]\n",
        "X = data_raw[features]\n",
        "Y.shape\n",
        "X.shape"
      ]
    },
    {
      "cell_type": "code",
      "execution_count": 18,
      "metadata": {},
      "outputs": [
        {
          "data": {
            "text/plain": [
              "Text(0, 0.5, 'Frequency')"
            ]
          },
          "execution_count": 18,
          "metadata": {},
          "output_type": "execute_result"
        },
        {
          "data": {
            "image/png": "[encoded data removed]",
            "text/plain": [
              "<Figure size 640x480 with 1 Axes>"
            ]
          },
          "metadata": {},
          "output_type": "display_data"
        }
      ],
      "source": [
        "plt.hist(Y)\n",
        "plt.xlabel('DLR(W/m2)')\n",
        "plt.ylabel('Frequency')"
      ]
    },
    {
      "cell_type": "code",
      "execution_count": null,
      "metadata": {},
      "outputs": [],
      "source": []
    },
    {
      "cell_type": "code",
      "execution_count": 19,
      "metadata": {
        "id": "aw1SGk_gd7Kc"
      },
      "outputs": [],
      "source": [
        "X_train, X_test, Y_train, Y_test = train_test_split(X, Y,test_size=0.3,random_state=6)"
      ]
    },
    {
      "cell_type": "code",
      "execution_count": null,
      "metadata": {
        "id": "FVnUHMfm5TLU"
      },
      "outputs": [],
      "source": [
        "# Train_alldata = data_raw.loc[data_raw.year != 2023]\n",
        "# Test_alldata = data_raw.loc[data_raw.year == 2023]\n",
        "# X_train = Train_alldata[features]\n",
        "# X_test = Test_alldata[features]\n",
        "# Y_train = Train_alldata[label]\n",
        "# Y_test = Test_alldata[label]"
      ]
    },
    {
      "cell_type": "code",
      "execution_count": null,
      "metadata": {
        "id": "0ys7Cc-66hbF"
      },
      "outputs": [],
      "source": [
        "# Train_alldata = data_raw.loc[data_raw.elv != 213.0]\n",
        "# Test_alldata = data_raw.loc[data_raw.elv == 213.0]\n",
        "# X_train = Train_alldata[features]\n",
        "# X_test = Test_alldata[features]\n",
        "# Y_train = Train_alldata[label]\n",
        "# Y_test = Test_alldata[label]"
      ]
    },
    {
      "cell_type": "code",
      "execution_count": 20,
      "metadata": {
        "id": "ZKfl5Dz9PKLf"
      },
      "outputs": [],
      "source": [
        "scaler_input = MinMaxScaler()\n",
        "scaler_label = MinMaxScaler()"
      ]
    },
    {
      "cell_type": "code",
      "execution_count": 21,
      "metadata": {
        "colab": {
          "base_uri": "https://localhost:8080/",
          "height": 80
        },
        "id": "RA8V6b-NUIDn",
        "outputId": "e5e73e60-ebe0-4f86-a71a-88f21d229023"
      },
      "outputs": [
        {
          "data": {
            "text/html": [
              "<style>#sk-container-id-1 {\n",
              "  /* Definition of color scheme common for light and dark mode */\n",
              "  --sklearn-color-text: #000;\n",
              "  --sklearn-color-text-muted: #666;\n",
              "  --sklearn-color-line: gray;\n",
              "  /* Definition of color scheme for unfitted estimators */\n",
              "  --sklearn-color-unfitted-level-0: #fff5e6;\n",
              "  --sklearn-color-unfitted-level-1: #f6e4d2;\n",
              "  --sklearn-color-unfitted-level-2: #ffe0b3;\n",
              "  --sklearn-color-unfitted-level-3: chocolate;\n",
              "  /* Definition of color scheme for fitted estimators */\n",
              "  --sklearn-color-fitted-level-0: #f0f8ff;\n",
              "  --sklearn-color-fitted-level-1: #d4ebff;\n",
              "  --sklearn-color-fitted-level-2: #b3dbfd;\n",
              "  --sklearn-color-fitted-level-3: cornflowerblue;\n",
              "\n",
              "  /* Specific color for light theme */\n",
              "  --sklearn-color-text-on-default-background: var(--sg-text-color, var(--theme-code-foreground, var(--jp-content-font-color1, black)));\n",
              "  --sklearn-color-background: var(--sg-background-color, var(--theme-background, var(--jp-layout-color0, white)));\n",
              "  --sklearn-color-border-box: var(--sg-text-color, var(--theme-code-foreground, var(--jp-content-font-color1, black)));\n",
              "  --sklearn-color-icon: #696969;\n",
              "\n",
              "  @media (prefers-color-scheme: dark) {\n",
              "    /* Redefinition of color scheme for dark theme */\n",
              "    --sklearn-color-text-on-default-background: var(--sg-text-color, var(--theme-code-foreground, var(--jp-content-font-color1, white)));\n",
              "    --sklearn-color-background: var(--sg-background-color, var(--theme-background, var(--jp-layout-color0, #111)));\n",
              "    --sklearn-color-border-box: var(--sg-text-color, var(--theme-code-foreground, var(--jp-content-font-color1, white)));\n",
              "    --sklearn-color-icon: #878787;\n",
              "  }\n",
              "}\n",
              "\n",
              "#sk-container-id-1 {\n",
              "  color: var(--sklearn-color-text);\n",
              "}\n",
              "\n",
              "#sk-container-id-1 pre {\n",
              "  padding: 0;\n",
              "}\n",
              "\n",
              "#sk-container-id-1 input.sk-hidden--visually {\n",
              "  border: 0;\n",
              "  clip: rect(1px 1px 1px 1px);\n",
              "  clip: rect(1px, 1px, 1px, 1px);\n",
              "  height: 1px;\n",
              "  margin: -1px;\n",
              "  overflow: hidden;\n",
              "  padding: 0;\n",
              "  position: absolute;\n",
              "  width: 1px;\n",
              "}\n",
              "\n",
              "#sk-container-id-1 div.sk-dashed-wrapped {\n",
              "  border: 1px dashed var(--sklearn-color-line);\n",
              "  margin: 0 0.4em 0.5em 0.4em;\n",
              "  box-sizing: border-box;\n",
              "  padding-bottom: 0.4em;\n",
              "  background-color: var(--sklearn-color-background);\n",
              "}\n",
              "\n",
              "#sk-container-id-1 div.sk-container {\n",
              "  /* jupyter's `normalize.less` sets `[hidden] { display: none; }`\n",
              "     but bootstrap.min.css set `[hidden] { display: none !important; }`\n",
              "     so we also need the `!important` here to be able to override the\n",
              "     default hidden behavior on the sphinx rendered scikit-learn.org.\n",
              "     See: https://github.com/scikit-learn/scikit-learn/issues/21755 */\n",
              "  display: inline-block !important;\n",
              "  position: relative;\n",
              "}\n",
              "\n",
              "#sk-container-id-1 div.sk-text-repr-fallback {\n",
              "  display: none;\n",
              "}\n",
              "\n",
              "div.sk-parallel-item,\n",
              "div.sk-serial,\n",
              "div.sk-item {\n",
              "  /* draw centered vertical line to link estimators */\n",
              "  background-image: linear-gradient(var(--sklearn-color-text-on-default-background), var(--sklearn-color-text-on-default-background));\n",
              "  background-size: 2px 100%;\n",
              "  background-repeat: no-repeat;\n",
              "  background-position: center center;\n",
              "}\n",
              "\n",
              "/* Parallel-specific style estimator block */\n",
              "\n",
              "#sk-container-id-1 div.sk-parallel-item::after {\n",
              "  content: \"\";\n",
              "  width: 100%;\n",
              "  border-bottom: 2px solid var(--sklearn-color-text-on-default-background);\n",
              "  flex-grow: 1;\n",
              "}\n",
              "\n",
              "#sk-container-id-1 div.sk-parallel {\n",
              "  display: flex;\n",
              "  align-items: stretch;\n",
              "  justify-content: center;\n",
              "  background-color: var(--sklearn-color-background);\n",
              "  position: relative;\n",
              "}\n",
              "\n",
              "#sk-container-id-1 div.sk-parallel-item {\n",
              "  display: flex;\n",
              "  flex-direction: column;\n",
              "}\n",
              "\n",
              "#sk-container-id-1 div.sk-parallel-item:first-child::after {\n",
              "  align-self: flex-end;\n",
              "  width: 50%;\n",
              "}\n",
              "\n",
              "#sk-container-id-1 div.sk-parallel-item:last-child::after {\n",
              "  align-self: flex-start;\n",
              "  width: 50%;\n",
              "}\n",
              "\n",
              "#sk-container-id-1 div.sk-parallel-item:only-child::after {\n",
              "  width: 0;\n",
              "}\n",
              "\n",
              "/* Serial-specific style estimator block */\n",
              "\n",
              "#sk-container-id-1 div.sk-serial {\n",
              "  display: flex;\n",
              "  flex-direction: column;\n",
              "  align-items: center;\n",
              "  background-color: var(--sklearn-color-background);\n",
              "  padding-right: 1em;\n",
              "  padding-left: 1em;\n",
              "}\n",
              "\n",
              "\n",
              "/* Toggleable style: style used for estimator/Pipeline/ColumnTransformer box that is\n",
              "clickable and can be expanded/collapsed.\n",
              "- Pipeline and ColumnTransformer use this feature and define the default style\n",
              "- Estimators will overwrite some part of the style using the `sk-estimator` class\n",
              "*/\n",
              "\n",
              "/* Pipeline and ColumnTransformer style (default) */\n",
              "\n",
              "#sk-container-id-1 div.sk-toggleable {\n",
              "  /* Default theme specific background. It is overwritten whether we have a\n",
              "  specific estimator or a Pipeline/ColumnTransformer */\n",
              "  background-color: var(--sklearn-color-background);\n",
              "}\n",
              "\n",
              "/* Toggleable label */\n",
              "#sk-container-id-1 label.sk-toggleable__label {\n",
              "  cursor: pointer;\n",
              "  display: flex;\n",
              "  width: 100%;\n",
              "  margin-bottom: 0;\n",
              "  padding: 0.5em;\n",
              "  box-sizing: border-box;\n",
              "  text-align: center;\n",
              "  align-items: start;\n",
              "  justify-content: space-between;\n",
              "  gap: 0.5em;\n",
              "}\n",
              "\n",
              "#sk-container-id-1 label.sk-toggleable__label .caption {\n",
              "  font-size: 0.6rem;\n",
              "  font-weight: lighter;\n",
              "  color: var(--sklearn-color-text-muted);\n",
              "}\n",
              "\n",
              "#sk-container-id-1 label.sk-toggleable__label-arrow:before {\n",
              "  /* Arrow on the left of the label */\n",
              "  content: \"▸\";\n",
              "  float: left;\n",
              "  margin-right: 0.25em;\n",
              "  color: var(--sklearn-color-icon);\n",
              "}\n",
              "\n",
              "#sk-container-id-1 label.sk-toggleable__label-arrow:hover:before {\n",
              "  color: var(--sklearn-color-text);\n",
              "}\n",
              "\n",
              "/* Toggleable content - dropdown */\n",
              "\n",
              "#sk-container-id-1 div.sk-toggleable__content {\n",
              "  max-height: 0;\n",
              "  max-width: 0;\n",
              "  overflow: hidden;\n",
              "  text-align: left;\n",
              "  /* unfitted */\n",
              "  background-color: var(--sklearn-color-unfitted-level-0);\n",
              "}\n",
              "\n",
              "#sk-container-id-1 div.sk-toggleable__content.fitted {\n",
              "  /* fitted */\n",
              "  background-color: var(--sklearn-color-fitted-level-0);\n",
              "}\n",
              "\n",
              "#sk-container-id-1 div.sk-toggleable__content pre {\n",
              "  margin: 0.2em;\n",
              "  border-radius: 0.25em;\n",
              "  color: var(--sklearn-color-text);\n",
              "  /* unfitted */\n",
              "  background-color: var(--sklearn-color-unfitted-level-0);\n",
              "}\n",
              "\n",
              "#sk-container-id-1 div.sk-toggleable__content.fitted pre {\n",
              "  /* unfitted */\n",
              "  background-color: var(--sklearn-color-fitted-level-0);\n",
              "}\n",
              "\n",
              "#sk-container-id-1 input.sk-toggleable__control:checked~div.sk-toggleable__content {\n",
              "  /* Expand drop-down */\n",
              "  max-height: 200px;\n",
              "  max-width: 100%;\n",
              "  overflow: auto;\n",
              "}\n",
              "\n",
              "#sk-container-id-1 input.sk-toggleable__control:checked~label.sk-toggleable__label-arrow:before {\n",
              "  content: \"▾\";\n",
              "}\n",
              "\n",
              "/* Pipeline/ColumnTransformer-specific style */\n",
              "\n",
              "#sk-container-id-1 div.sk-label input.sk-toggleable__control:checked~label.sk-toggleable__label {\n",
              "  color: var(--sklearn-color-text);\n",
              "  background-color: var(--sklearn-color-unfitted-level-2);\n",
              "}\n",
              "\n",
              "#sk-container-id-1 div.sk-label.fitted input.sk-toggleable__control:checked~label.sk-toggleable__label {\n",
              "  background-color: var(--sklearn-color-fitted-level-2);\n",
              "}\n",
              "\n",
              "/* Estimator-specific style */\n",
              "\n",
              "/* Colorize estimator box */\n",
              "#sk-container-id-1 div.sk-estimator input.sk-toggleable__control:checked~label.sk-toggleable__label {\n",
              "  /* unfitted */\n",
              "  background-color: var(--sklearn-color-unfitted-level-2);\n",
              "}\n",
              "\n",
              "#sk-container-id-1 div.sk-estimator.fitted input.sk-toggleable__control:checked~label.sk-toggleable__label {\n",
              "  /* fitted */\n",
              "  background-color: var(--sklearn-color-fitted-level-2);\n",
              "}\n",
              "\n",
              "#sk-container-id-1 div.sk-label label.sk-toggleable__label,\n",
              "#sk-container-id-1 div.sk-label label {\n",
              "  /* The background is the default theme color */\n",
              "  color: var(--sklearn-color-text-on-default-background);\n",
              "}\n",
              "\n",
              "/* On hover, darken the color of the background */\n",
              "#sk-container-id-1 div.sk-label:hover label.sk-toggleable__label {\n",
              "  color: var(--sklearn-color-text);\n",
              "  background-color: var(--sklearn-color-unfitted-level-2);\n",
              "}\n",
              "\n",
              "/* Label box, darken color on hover, fitted */\n",
              "#sk-container-id-1 div.sk-label.fitted:hover label.sk-toggleable__label.fitted {\n",
              "  color: var(--sklearn-color-text);\n",
              "  background-color: var(--sklearn-color-fitted-level-2);\n",
              "}\n",
              "\n",
              "/* Estimator label */\n",
              "\n",
              "#sk-container-id-1 div.sk-label label {\n",
              "  font-family: monospace;\n",
              "  font-weight: bold;\n",
              "  display: inline-block;\n",
              "  line-height: 1.2em;\n",
              "}\n",
              "\n",
              "#sk-container-id-1 div.sk-label-container {\n",
              "  text-align: center;\n",
              "}\n",
              "\n",
              "/* Estimator-specific */\n",
              "#sk-container-id-1 div.sk-estimator {\n",
              "  font-family: monospace;\n",
              "  border: 1px dotted var(--sklearn-color-border-box);\n",
              "  border-radius: 0.25em;\n",
              "  box-sizing: border-box;\n",
              "  margin-bottom: 0.5em;\n",
              "  /* unfitted */\n",
              "  background-color: var(--sklearn-color-unfitted-level-0);\n",
              "}\n",
              "\n",
              "#sk-container-id-1 div.sk-estimator.fitted {\n",
              "  /* fitted */\n",
              "  background-color: var(--sklearn-color-fitted-level-0);\n",
              "}\n",
              "\n",
              "/* on hover */\n",
              "#sk-container-id-1 div.sk-estimator:hover {\n",
              "  /* unfitted */\n",
              "  background-color: var(--sklearn-color-unfitted-level-2);\n",
              "}\n",
              "\n",
              "#sk-container-id-1 div.sk-estimator.fitted:hover {\n",
              "  /* fitted */\n",
              "  background-color: var(--sklearn-color-fitted-level-2);\n",
              "}\n",
              "\n",
              "/* Specification for estimator info (e.g. \"i\" and \"?\") */\n",
              "\n",
              "/* Common style for \"i\" and \"?\" */\n",
              "\n",
              ".sk-estimator-doc-link,\n",
              "a:link.sk-estimator-doc-link,\n",
              "a:visited.sk-estimator-doc-link {\n",
              "  float: right;\n",
              "  font-size: smaller;\n",
              "  line-height: 1em;\n",
              "  font-family: monospace;\n",
              "  background-color: var(--sklearn-color-background);\n",
              "  border-radius: 1em;\n",
              "  height: 1em;\n",
              "  width: 1em;\n",
              "  text-decoration: none !important;\n",
              "  margin-left: 0.5em;\n",
              "  text-align: center;\n",
              "  /* unfitted */\n",
              "  border: var(--sklearn-color-unfitted-level-1) 1pt solid;\n",
              "  color: var(--sklearn-color-unfitted-level-1);\n",
              "}\n",
              "\n",
              ".sk-estimator-doc-link.fitted,\n",
              "a:link.sk-estimator-doc-link.fitted,\n",
              "a:visited.sk-estimator-doc-link.fitted {\n",
              "  /* fitted */\n",
              "  border: var(--sklearn-color-fitted-level-1) 1pt solid;\n",
              "  color: var(--sklearn-color-fitted-level-1);\n",
              "}\n",
              "\n",
              "/* On hover */\n",
              "div.sk-estimator:hover .sk-estimator-doc-link:hover,\n",
              ".sk-estimator-doc-link:hover,\n",
              "div.sk-label-container:hover .sk-estimator-doc-link:hover,\n",
              ".sk-estimator-doc-link:hover {\n",
              "  /* unfitted */\n",
              "  background-color: var(--sklearn-color-unfitted-level-3);\n",
              "  color: var(--sklearn-color-background);\n",
              "  text-decoration: none;\n",
              "}\n",
              "\n",
              "div.sk-estimator.fitted:hover .sk-estimator-doc-link.fitted:hover,\n",
              ".sk-estimator-doc-link.fitted:hover,\n",
              "div.sk-label-container:hover .sk-estimator-doc-link.fitted:hover,\n",
              ".sk-estimator-doc-link.fitted:hover {\n",
              "  /* fitted */\n",
              "  background-color: var(--sklearn-color-fitted-level-3);\n",
              "  color: var(--sklearn-color-background);\n",
              "  text-decoration: none;\n",
              "}\n",
              "\n",
              "/* Span, style for the box shown on hovering the info icon */\n",
              ".sk-estimator-doc-link span {\n",
              "  display: none;\n",
              "  z-index: 9999;\n",
              "  position: relative;\n",
              "  font-weight: normal;\n",
              "  right: .2ex;\n",
              "  padding: .5ex;\n",
              "  margin: .5ex;\n",
              "  width: min-content;\n",
              "  min-width: 20ex;\n",
              "  max-width: 50ex;\n",
              "  color: var(--sklearn-color-text);\n",
              "  box-shadow: 2pt 2pt 4pt #999;\n",
              "  /* unfitted */\n",
              "  background: var(--sklearn-color-unfitted-level-0);\n",
              "  border: .5pt solid var(--sklearn-color-unfitted-level-3);\n",
              "}\n",
              "\n",
              ".sk-estimator-doc-link.fitted span {\n",
              "  /* fitted */\n",
              "  background: var(--sklearn-color-fitted-level-0);\n",
              "  border: var(--sklearn-color-fitted-level-3);\n",
              "}\n",
              "\n",
              ".sk-estimator-doc-link:hover span {\n",
              "  display: block;\n",
              "}\n",
              "\n",
              "/* \"?\"-specific style due to the `<a>` HTML tag */\n",
              "\n",
              "#sk-container-id-1 a.estimator_doc_link {\n",
              "  float: right;\n",
              "  font-size: 1rem;\n",
              "  line-height: 1em;\n",
              "  font-family: monospace;\n",
              "  background-color: var(--sklearn-color-background);\n",
              "  border-radius: 1rem;\n",
              "  height: 1rem;\n",
              "  width: 1rem;\n",
              "  text-decoration: none;\n",
              "  /* unfitted */\n",
              "  color: var(--sklearn-color-unfitted-level-1);\n",
              "  border: var(--sklearn-color-unfitted-level-1) 1pt solid;\n",
              "}\n",
              "\n",
              "#sk-container-id-1 a.estimator_doc_link.fitted {\n",
              "  /* fitted */\n",
              "  border: var(--sklearn-color-fitted-level-1) 1pt solid;\n",
              "  color: var(--sklearn-color-fitted-level-1);\n",
              "}\n",
              "\n",
              "/* On hover */\n",
              "#sk-container-id-1 a.estimator_doc_link:hover {\n",
              "  /* unfitted */\n",
              "  background-color: var(--sklearn-color-unfitted-level-3);\n",
              "  color: var(--sklearn-color-background);\n",
              "  text-decoration: none;\n",
              "}\n",
              "\n",
              "#sk-container-id-1 a.estimator_doc_link.fitted:hover {\n",
              "  /* fitted */\n",
              "  background-color: var(--sklearn-color-fitted-level-3);\n",
              "}\n",
              "</style><div id=\"sk-container-id-1\" class=\"sk-top-container\"><div class=\"sk-text-repr-fallback\"><pre>MinMaxScaler()</pre><b>In a Jupyter environment, please rerun this cell to show the HTML representation or trust the notebook. <br />On GitHub, the HTML representation is unable to render, please try loading this page with nbviewer.org.</b></div><div class=\"sk-container\" hidden><div class=\"sk-item\"><div class=\"sk-estimator fitted sk-toggleable\"><input class=\"sk-toggleable__control sk-hidden--visually\" id=\"sk-estimator-id-1\" type=\"checkbox\" checked><label for=\"sk-estimator-id-1\" class=\"sk-toggleable__label fitted sk-toggleable__label-arrow\"><div><div>MinMaxScaler</div></div><div><a class=\"sk-estimator-doc-link fitted\" rel=\"noreferrer\" target=\"_blank\" href=\"https://scikit-learn.org/1.6/modules/generated/sklearn.preprocessing.MinMaxScaler.html\">?<span>Documentation for MinMaxScaler</span></a><span class=\"sk-estimator-doc-link fitted\">i<span>Fitted</span></span></div></label><div class=\"sk-toggleable__content fitted\"><pre>MinMaxScaler()</pre></div> </div></div></div></div>"
            ],
            "text/plain": [
              "MinMaxScaler()"
            ]
          },
          "execution_count": 21,
          "metadata": {},
          "output_type": "execute_result"
        }
      ],
      "source": [
        "scaler_input.fit(X_train)\n",
        "scaler_label.fit(Y_train)"
      ]
    },
    {
      "cell_type": "code",
      "execution_count": 22,
      "metadata": {
        "id": "xDb1sVSePOmk"
      },
      "outputs": [],
      "source": [
        "X_train_scaled = scaler_input.transform(X_train)\n",
        "Y_train_scaled = scaler_label.transform(Y_train)"
      ]
    },
    {
      "cell_type": "code",
      "execution_count": null,
      "metadata": {},
      "outputs": [],
      "source": []
    },
    {
      "cell_type": "code",
      "execution_count": null,
      "metadata": {
        "colab": {
          "base_uri": "https://localhost:8080/",
          "height": 430
        },
        "id": "nkkDIramVYK9",
        "outputId": "ac814df4-4261-4525-adc2-5ffe8c270386"
      },
      "outputs": [],
      "source": [
        "plt.hist(X_train_scaled[:,7])\n",
        "plt.show()"
      ]
    },
    {
      "cell_type": "code",
      "execution_count": 23,
      "metadata": {
        "id": "7gNxX4JX_ZMN"
      },
      "outputs": [],
      "source": [
        "def build_model(hp):\n",
        "    model = keras.Sequential()\n",
        "\n",
        "    # first hidden\n",
        "    model.add(keras.layers.Dense(\n",
        "        units=hp.Int(\"units_1\", min_value=64, max_value=512, step=64),\n",
        "        activation=\"relu\",\n",
        "        input_shape=(X_train.shape[1],)\n",
        "    ))\n",
        "\n",
        "    # sencond and third\n",
        "    if hp.Boolean(\"use_second_layer\"):\n",
        "        model.add(keras.layers.Dense(\n",
        "            units=hp.Int(\"units_2\", min_value=32, max_value=256, step=32),\n",
        "            activation=\"relu\"\n",
        "        ))\n",
        "    if hp.Boolean(\"use_third_layer\"):\n",
        "        model.add(keras.layers.Dense(\n",
        "            units=hp.Int(\"units_3\", min_value=32, max_value=256, step=32),\n",
        "            activation=\"relu\"\n",
        "        ))\n",
        "\n",
        "    # Dropout \n",
        "    model.add(keras.layers.Dropout(\n",
        "        rate=hp.Float(\"dropout\", 0.1, 0.5, step=0.1)\n",
        "    ))\n",
        "\n",
        "    # output\n",
        "    model.add(keras.layers.Dense(1, activation=\"linear\"))\n",
        "\n",
        "    # compile\n",
        "    model.compile(\n",
        "        optimizer=keras.optimizers.Adam(\n",
        "            hp.Float(\"learning_rate\", 1e-4, 1e-2, sampling=\"log\")\n",
        "        ),\n",
        "        loss=\"mse\",\n",
        "        metrics=[\"mae\"]\n",
        "    )\n",
        "    \n",
        "    \n",
        "    return model"
      ]
    },
    {
      "cell_type": "code",
      "execution_count": null,
      "metadata": {
        "colab": {
          "base_uri": "https://localhost:8080/"
        },
        "id": "Ax8WxsEaBh-K",
        "outputId": "09239f07-2305-4233-c878-df53fdb59dfa"
      },
      "outputs": [
        {
          "name": "stderr",
          "output_type": "stream",
          "text": [
            "/Users/yaminguo/anaconda3/envs/keras-tf-v2025/lib/python3.12/site-packages/keras/src/layers/core/dense.py:87: UserWarning: Do not pass an `input_shape`/`input_dim` argument to a layer. When using Sequential models, prefer using an `Input(shape)` object as the first layer in the model instead.\n",
            "  super().__init__(activity_regularizer=activity_regularizer, **kwargs)\n"
          ]
        }
      ],
      "source": [
        "# tuner = kt.RandomSearch(\n",
        "#     build_model,\n",
        "#     objective=\"val_loss\",\n",
        "#     max_trials=20,\n",
        "#     executions_per_trial=1,\n",
        "#     directory=\"tuner_dlr\",\n",
        "#     project_name=\"dlr_regression_kfold\"\n",
        "# )\n",
        "# tuner.search(X_train_scaled, Y_train_scaled,\n",
        "#              epochs=50,\n",
        "#              validation_split=0.1,\n",
        "#              validation_split=0.1,\n",
        "#              callbacks=[keras.callbacks.EarlyStopping(patience=5)])"
      ]
    },
    {
      "cell_type": "code",
      "execution_count": 29,
      "metadata": {},
      "outputs": [],
      "source": [
        "class MyKFoldTuner(kt.RandomSearch):\n",
        "    def run_trial(self, trial, X, Y, batch_size=32, epochs=50, n_splits=3, **fit_kwargs):\n",
        "        kf = KFold(n_splits=n_splits, shuffle=True, random_state=42)\n",
        "        val_scores = []\n",
        "\n",
        "        for train_idx, val_idx in kf.split(X):\n",
        "            X_train, X_val = X[train_idx], X[val_idx]\n",
        "            Y_train, Y_val = Y[train_idx], Y[val_idx]\n",
        "\n",
        "            model = self.hypermodel.build(trial.hyperparameters)\n",
        "\n",
        "            model.fit(X_train, Y_train,\n",
        "                      validation_data=(X_val, Y_val),\n",
        "                      epochs=epochs,\n",
        "                      batch_size=batch_size,\n",
        "                      verbose=0,\n",
        "                      callbacks=[keras.callbacks.EarlyStopping(patience=5, restore_best_weights=True)],\n",
        "                      **fit_kwargs)\n",
        "\n",
        "            loss, mae = model.evaluate(X_val, Y_val, verbose=0)\n",
        "            val_scores.append(mae)\n",
        "\n",
        "        # 记录每个 trial 的平均验证 MAE\n",
        "        self.oracle.update_trial(trial.trial_id, {'val_mae': np.mean(val_scores)})"
      ]
    },
    {
      "cell_type": "code",
      "execution_count": 30,
      "metadata": {},
      "outputs": [
        {
          "name": "stdout",
          "output_type": "stream",
          "text": [
            "Trial 10 Complete [00h 01m 20s]\n",
            "val_mae: 0.02753593089679877\n",
            "\n",
            "Best val_mae So Far: 0.026024803519248962\n",
            "Total elapsed time: 00h 12m 45s\n"
          ]
        }
      ],
      "source": [
        "tuner = MyKFoldTuner(\n",
        "    hypermodel=build_model,\n",
        "    objective='val_mae',\n",
        "    max_trials=10,\n",
        "    directory=\"tuner_dlr\",\n",
        "    project_name=\"dlr_regression_kfold\"\n",
        ")\n",
        "\n",
        "# 自动调用我们自定义的 run_trial\n",
        "tuner.search(X_train_scaled, Y_train_scaled, epochs=50, batch_size=32)"
      ]
    },
    {
      "cell_type": "code",
      "execution_count": null,
      "metadata": {
        "colab": {
          "base_uri": "https://localhost:8080/"
        },
        "id": "V3l0lMsZB0WF",
        "outputId": "c09980ec-b4d2-478d-faba-9c4923099b63"
      },
      "outputs": [],
      "source": []
    },
    {
      "cell_type": "code",
      "execution_count": 31,
      "metadata": {
        "colab": {
          "base_uri": "https://localhost:8080/"
        },
        "id": "61N9xKk7T9St",
        "outputId": "ad36309a-f788-45c5-d752-85f06f065568"
      },
      "outputs": [
        {
          "name": "stdout",
          "output_type": "stream",
          "text": [
            "Best hyperparameters:\n",
            "units_1: 64\n",
            "use_second_layer: False\n",
            "use_third_layer: True\n",
            "dropout: 0.1\n",
            "learning_rate: 0.00018644399818542467\n",
            "units_3: 192\n",
            "units_2: 32\n"
          ]
        }
      ],
      "source": [
        "best_hps = tuner.get_best_hyperparameters(1)[0]\n",
        "print(\"Best hyperparameters:\")\n",
        "for param in best_hps.values.keys():\n",
        "    print(f\"{param}: {best_hps.get(param)}\")"
      ]
    },
    {
      "cell_type": "code",
      "execution_count": 32,
      "metadata": {
        "colab": {
          "base_uri": "https://localhost:8080/"
        },
        "collapsed": true,
        "id": "8npiVk3pCq0K",
        "outputId": "de3b87ac-ae95-435b-afda-02825f5e5eda"
      },
      "outputs": [
        {
          "name": "stdout",
          "output_type": "stream",
          "text": [
            "Epoch 1/50\n"
          ]
        },
        {
          "name": "stderr",
          "output_type": "stream",
          "text": [
            "/Users/yaminguo/anaconda3/envs/keras-tf-v2025/lib/python3.12/site-packages/keras/src/layers/core/dense.py:87: UserWarning: Do not pass an `input_shape`/`input_dim` argument to a layer. When using Sequential models, prefer using an `Input(shape)` object as the first layer in the model instead.\n",
            "  super().__init__(activity_regularizer=activity_regularizer, **kwargs)\n"
          ]
        },
        {
          "name": "stdout",
          "output_type": "stream",
          "text": [
            "\u001b[1m2495/2495\u001b[0m \u001b[32m━━━━━━━━━━━━━━━━━━━━\u001b[0m\u001b[37m\u001b[0m \u001b[1m2s\u001b[0m 497us/step - loss: 0.0112 - mae: 0.0771 - val_loss: 0.0021 - val_mae: 0.0352\n",
            "Epoch 2/50\n",
            "\u001b[1m2495/2495\u001b[0m \u001b[32m━━━━━━━━━━━━━━━━━━━━\u001b[0m\u001b[37m\u001b[0m \u001b[1m1s\u001b[0m 438us/step - loss: 0.0026 - mae: 0.0401 - val_loss: 0.0018 - val_mae: 0.0321\n",
            "Epoch 3/50\n",
            "\u001b[1m2495/2495\u001b[0m \u001b[32m━━━━━━━━━━━━━━━━━━━━\u001b[0m\u001b[37m\u001b[0m \u001b[1m1s\u001b[0m 469us/step - loss: 0.0023 - mae: 0.0372 - val_loss: 0.0020 - val_mae: 0.0349\n",
            "Epoch 4/50\n",
            "\u001b[1m2495/2495\u001b[0m \u001b[32m━━━━━━━━━━━━━━━━━━━━\u001b[0m\u001b[37m\u001b[0m \u001b[1m1s\u001b[0m 423us/step - loss: 0.0021 - mae: 0.0357 - val_loss: 0.0017 - val_mae: 0.0307\n",
            "Epoch 5/50\n",
            "\u001b[1m2495/2495\u001b[0m \u001b[32m━━━━━━━━━━━━━━━━━━━━\u001b[0m\u001b[37m\u001b[0m \u001b[1m1s\u001b[0m 422us/step - loss: 0.0020 - mae: 0.0345 - val_loss: 0.0016 - val_mae: 0.0300\n",
            "Epoch 6/50\n",
            "\u001b[1m2495/2495\u001b[0m \u001b[32m━━━━━━━━━━━━━━━━━━━━\u001b[0m\u001b[37m\u001b[0m \u001b[1m1s\u001b[0m 426us/step - loss: 0.0019 - mae: 0.0335 - val_loss: 0.0016 - val_mae: 0.0307\n",
            "Epoch 7/50\n",
            "\u001b[1m2495/2495\u001b[0m \u001b[32m━━━━━━━━━━━━━━━━━━━━\u001b[0m\u001b[37m\u001b[0m \u001b[1m1s\u001b[0m 427us/step - loss: 0.0018 - mae: 0.0329 - val_loss: 0.0016 - val_mae: 0.0296\n",
            "Epoch 8/50\n",
            "\u001b[1m2495/2495\u001b[0m \u001b[32m━━━━━━━━━━━━━━━━━━━━\u001b[0m\u001b[37m\u001b[0m \u001b[1m1s\u001b[0m 435us/step - loss: 0.0018 - mae: 0.0322 - val_loss: 0.0015 - val_mae: 0.0288\n",
            "Epoch 9/50\n",
            "\u001b[1m2495/2495\u001b[0m \u001b[32m━━━━━━━━━━━━━━━━━━━━\u001b[0m\u001b[37m\u001b[0m \u001b[1m1s\u001b[0m 440us/step - loss: 0.0017 - mae: 0.0317 - val_loss: 0.0015 - val_mae: 0.0286\n",
            "Epoch 10/50\n",
            "\u001b[1m2495/2495\u001b[0m \u001b[32m━━━━━━━━━━━━━━━━━━━━\u001b[0m\u001b[37m\u001b[0m \u001b[1m1s\u001b[0m 438us/step - loss: 0.0017 - mae: 0.0315 - val_loss: 0.0015 - val_mae: 0.0293\n",
            "Epoch 11/50\n",
            "\u001b[1m2495/2495\u001b[0m \u001b[32m━━━━━━━━━━━━━━━━━━━━\u001b[0m\u001b[37m\u001b[0m \u001b[1m1s\u001b[0m 428us/step - loss: 0.0016 - mae: 0.0308 - val_loss: 0.0015 - val_mae: 0.0294\n",
            "Epoch 12/50\n",
            "\u001b[1m2495/2495\u001b[0m \u001b[32m━━━━━━━━━━━━━━━━━━━━\u001b[0m\u001b[37m\u001b[0m \u001b[1m1s\u001b[0m 433us/step - loss: 0.0016 - mae: 0.0303 - val_loss: 0.0014 - val_mae: 0.0276\n",
            "Epoch 13/50\n",
            "\u001b[1m2495/2495\u001b[0m \u001b[32m━━━━━━━━━━━━━━━━━━━━\u001b[0m\u001b[37m\u001b[0m \u001b[1m1s\u001b[0m 428us/step - loss: 0.0015 - mae: 0.0297 - val_loss: 0.0014 - val_mae: 0.0274\n",
            "Epoch 14/50\n",
            "\u001b[1m2495/2495\u001b[0m \u001b[32m━━━━━━━━━━━━━━━━━━━━\u001b[0m\u001b[37m\u001b[0m \u001b[1m1s\u001b[0m 439us/step - loss: 0.0015 - mae: 0.0295 - val_loss: 0.0014 - val_mae: 0.0271\n",
            "Epoch 15/50\n",
            "\u001b[1m2495/2495\u001b[0m \u001b[32m━━━━━━━━━━━━━━━━━━━━\u001b[0m\u001b[37m\u001b[0m \u001b[1m1s\u001b[0m 440us/step - loss: 0.0015 - mae: 0.0291 - val_loss: 0.0013 - val_mae: 0.0269\n",
            "Epoch 16/50\n",
            "\u001b[1m2495/2495\u001b[0m \u001b[32m━━━━━━━━━━━━━━━━━━━━\u001b[0m\u001b[37m\u001b[0m \u001b[1m1s\u001b[0m 500us/step - loss: 0.0015 - mae: 0.0288 - val_loss: 0.0013 - val_mae: 0.0266\n",
            "Epoch 17/50\n",
            "\u001b[1m2495/2495\u001b[0m \u001b[32m━━━━━━━━━━━━━━━━━━━━\u001b[0m\u001b[37m\u001b[0m \u001b[1m1s\u001b[0m 456us/step - loss: 0.0015 - mae: 0.0286 - val_loss: 0.0013 - val_mae: 0.0268\n",
            "Epoch 18/50\n",
            "\u001b[1m2495/2495\u001b[0m \u001b[32m━━━━━━━━━━━━━━━━━━━━\u001b[0m\u001b[37m\u001b[0m \u001b[1m1s\u001b[0m 466us/step - loss: 0.0014 - mae: 0.0285 - val_loss: 0.0013 - val_mae: 0.0264\n",
            "Epoch 19/50\n",
            "\u001b[1m2495/2495\u001b[0m \u001b[32m━━━━━━━━━━━━━━━━━━━━\u001b[0m\u001b[37m\u001b[0m \u001b[1m1s\u001b[0m 429us/step - loss: 0.0014 - mae: 0.0280 - val_loss: 0.0013 - val_mae: 0.0261\n",
            "Epoch 20/50\n",
            "\u001b[1m2495/2495\u001b[0m \u001b[32m━━━━━━━━━━━━━━━━━━━━\u001b[0m\u001b[37m\u001b[0m \u001b[1m1s\u001b[0m 444us/step - loss: 0.0014 - mae: 0.0280 - val_loss: 0.0014 - val_mae: 0.0271\n",
            "Epoch 21/50\n",
            "\u001b[1m2495/2495\u001b[0m \u001b[32m━━━━━━━━━━━━━━━━━━━━\u001b[0m\u001b[37m\u001b[0m \u001b[1m1s\u001b[0m 444us/step - loss: 0.0014 - mae: 0.0278 - val_loss: 0.0013 - val_mae: 0.0258\n",
            "Epoch 22/50\n",
            "\u001b[1m2495/2495\u001b[0m \u001b[32m━━━━━━━━━━━━━━━━━━━━\u001b[0m\u001b[37m\u001b[0m \u001b[1m1s\u001b[0m 482us/step - loss: 0.0014 - mae: 0.0276 - val_loss: 0.0013 - val_mae: 0.0262\n",
            "Epoch 23/50\n",
            "\u001b[1m2495/2495\u001b[0m \u001b[32m━━━━━━━━━━━━━━━━━━━━\u001b[0m\u001b[37m\u001b[0m \u001b[1m1s\u001b[0m 466us/step - loss: 0.0014 - mae: 0.0276 - val_loss: 0.0012 - val_mae: 0.0255\n",
            "Epoch 24/50\n",
            "\u001b[1m2495/2495\u001b[0m \u001b[32m━━━━━━━━━━━━━━━━━━━━\u001b[0m\u001b[37m\u001b[0m \u001b[1m1s\u001b[0m 431us/step - loss: 0.0014 - mae: 0.0275 - val_loss: 0.0013 - val_mae: 0.0260\n",
            "Epoch 25/50\n",
            "\u001b[1m2495/2495\u001b[0m \u001b[32m━━━━━━━━━━━━━━━━━━━━\u001b[0m\u001b[37m\u001b[0m \u001b[1m1s\u001b[0m 431us/step - loss: 0.0013 - mae: 0.0273 - val_loss: 0.0013 - val_mae: 0.0261\n",
            "Epoch 26/50\n",
            "\u001b[1m2495/2495\u001b[0m \u001b[32m━━━━━━━━━━━━━━━━━━━━\u001b[0m\u001b[37m\u001b[0m \u001b[1m1s\u001b[0m 419us/step - loss: 0.0013 - mae: 0.0273 - val_loss: 0.0012 - val_mae: 0.0255\n",
            "Epoch 27/50\n",
            "\u001b[1m2495/2495\u001b[0m \u001b[32m━━━━━━━━━━━━━━━━━━━━\u001b[0m\u001b[37m\u001b[0m \u001b[1m1s\u001b[0m 425us/step - loss: 0.0013 - mae: 0.0273 - val_loss: 0.0012 - val_mae: 0.0256\n",
            "Epoch 28/50\n",
            "\u001b[1m2495/2495\u001b[0m \u001b[32m━━━━━━━━━━━━━━━━━━━━\u001b[0m\u001b[37m\u001b[0m \u001b[1m1s\u001b[0m 428us/step - loss: 0.0013 - mae: 0.0270 - val_loss: 0.0013 - val_mae: 0.0259\n",
            "Epoch 29/50\n",
            "\u001b[1m2495/2495\u001b[0m \u001b[32m━━━━━━━━━━━━━━━━━━━━\u001b[0m\u001b[37m\u001b[0m \u001b[1m1s\u001b[0m 428us/step - loss: 0.0013 - mae: 0.0270 - val_loss: 0.0012 - val_mae: 0.0254\n",
            "Epoch 30/50\n",
            "\u001b[1m2495/2495\u001b[0m \u001b[32m━━━━━━━━━━━━━━━━━━━━\u001b[0m\u001b[37m\u001b[0m \u001b[1m1s\u001b[0m 427us/step - loss: 0.0013 - mae: 0.0271 - val_loss: 0.0012 - val_mae: 0.0254\n",
            "Epoch 31/50\n",
            "\u001b[1m2495/2495\u001b[0m \u001b[32m━━━━━━━━━━━━━━━━━━━━\u001b[0m\u001b[37m\u001b[0m \u001b[1m1s\u001b[0m 438us/step - loss: 0.0013 - mae: 0.0269 - val_loss: 0.0012 - val_mae: 0.0252\n",
            "Epoch 32/50\n",
            "\u001b[1m2495/2495\u001b[0m \u001b[32m━━━━━━━━━━━━━━━━━━━━\u001b[0m\u001b[37m\u001b[0m \u001b[1m1s\u001b[0m 430us/step - loss: 0.0013 - mae: 0.0269 - val_loss: 0.0013 - val_mae: 0.0255\n",
            "Epoch 33/50\n",
            "\u001b[1m2495/2495\u001b[0m \u001b[32m━━━━━━━━━━━━━━━━━━━━\u001b[0m\u001b[37m\u001b[0m \u001b[1m1s\u001b[0m 435us/step - loss: 0.0013 - mae: 0.0269 - val_loss: 0.0014 - val_mae: 0.0282\n",
            "Epoch 34/50\n",
            "\u001b[1m2495/2495\u001b[0m \u001b[32m━━━━━━━━━━━━━━━━━━━━\u001b[0m\u001b[37m\u001b[0m \u001b[1m1s\u001b[0m 428us/step - loss: 0.0013 - mae: 0.0268 - val_loss: 0.0012 - val_mae: 0.0256\n",
            "Epoch 35/50\n",
            "\u001b[1m2495/2495\u001b[0m \u001b[32m━━━━━━━━━━━━━━━━━━━━\u001b[0m\u001b[37m\u001b[0m \u001b[1m1s\u001b[0m 430us/step - loss: 0.0013 - mae: 0.0267 - val_loss: 0.0012 - val_mae: 0.0253\n",
            "Epoch 36/50\n",
            "\u001b[1m2495/2495\u001b[0m \u001b[32m━━━━━━━━━━━━━━━━━━━━\u001b[0m\u001b[37m\u001b[0m \u001b[1m1s\u001b[0m 435us/step - loss: 0.0013 - mae: 0.0265 - val_loss: 0.0012 - val_mae: 0.0252\n",
            "Epoch 37/50\n",
            "\u001b[1m2495/2495\u001b[0m \u001b[32m━━━━━━━━━━━━━━━━━━━━\u001b[0m\u001b[37m\u001b[0m \u001b[1m1s\u001b[0m 438us/step - loss: 0.0013 - mae: 0.0265 - val_loss: 0.0013 - val_mae: 0.0254\n",
            "Epoch 38/50\n",
            "\u001b[1m2495/2495\u001b[0m \u001b[32m━━━━━━━━━━━━━━━━━━━━\u001b[0m\u001b[37m\u001b[0m \u001b[1m1s\u001b[0m 432us/step - loss: 0.0013 - mae: 0.0265 - val_loss: 0.0012 - val_mae: 0.0250\n",
            "Epoch 39/50\n",
            "\u001b[1m2495/2495\u001b[0m \u001b[32m━━━━━━━━━━━━━━━━━━━━\u001b[0m\u001b[37m\u001b[0m \u001b[1m1s\u001b[0m 429us/step - loss: 0.0013 - mae: 0.0265 - val_loss: 0.0012 - val_mae: 0.0254\n",
            "Epoch 40/50\n",
            "\u001b[1m2495/2495\u001b[0m \u001b[32m━━━━━━━━━━━━━━━━━━━━\u001b[0m\u001b[37m\u001b[0m \u001b[1m1s\u001b[0m 445us/step - loss: 0.0013 - mae: 0.0264 - val_loss: 0.0012 - val_mae: 0.0255\n",
            "Epoch 41/50\n",
            "\u001b[1m2495/2495\u001b[0m \u001b[32m━━━━━━━━━━━━━━━━━━━━\u001b[0m\u001b[37m\u001b[0m \u001b[1m1s\u001b[0m 431us/step - loss: 0.0013 - mae: 0.0263 - val_loss: 0.0012 - val_mae: 0.0255\n",
            "Epoch 42/50\n",
            "\u001b[1m2495/2495\u001b[0m \u001b[32m━━━━━━━━━━━━━━━━━━━━\u001b[0m\u001b[37m\u001b[0m \u001b[1m1s\u001b[0m 436us/step - loss: 0.0013 - mae: 0.0266 - val_loss: 0.0012 - val_mae: 0.0253\n",
            "Epoch 43/50\n",
            "\u001b[1m2495/2495\u001b[0m \u001b[32m━━━━━━━━━━━━━━━━━━━━\u001b[0m\u001b[37m\u001b[0m \u001b[1m1s\u001b[0m 430us/step - loss: 0.0013 - mae: 0.0263 - val_loss: 0.0012 - val_mae: 0.0250\n",
            "Epoch 44/50\n",
            "\u001b[1m2495/2495\u001b[0m \u001b[32m━━━━━━━━━━━━━━━━━━━━\u001b[0m\u001b[37m\u001b[0m \u001b[1m1s\u001b[0m 428us/step - loss: 0.0013 - mae: 0.0263 - val_loss: 0.0012 - val_mae: 0.0252\n",
            "Epoch 45/50\n",
            "\u001b[1m2495/2495\u001b[0m \u001b[32m━━━━━━━━━━━━━━━━━━━━\u001b[0m\u001b[37m\u001b[0m \u001b[1m1s\u001b[0m 429us/step - loss: 0.0012 - mae: 0.0262 - val_loss: 0.0012 - val_mae: 0.0252\n",
            "Epoch 46/50\n",
            "\u001b[1m2495/2495\u001b[0m \u001b[32m━━━━━━━━━━━━━━━━━━━━\u001b[0m\u001b[37m\u001b[0m \u001b[1m1s\u001b[0m 436us/step - loss: 0.0013 - mae: 0.0261 - val_loss: 0.0012 - val_mae: 0.0250\n",
            "Epoch 47/50\n",
            "\u001b[1m2495/2495\u001b[0m \u001b[32m━━━━━━━━━━━━━━━━━━━━\u001b[0m\u001b[37m\u001b[0m \u001b[1m1s\u001b[0m 449us/step - loss: 0.0012 - mae: 0.0261 - val_loss: 0.0012 - val_mae: 0.0249\n",
            "Epoch 48/50\n",
            "\u001b[1m2495/2495\u001b[0m \u001b[32m━━━━━━━━━━━━━━━━━━━━\u001b[0m\u001b[37m\u001b[0m \u001b[1m1s\u001b[0m 436us/step - loss: 0.0013 - mae: 0.0262 - val_loss: 0.0012 - val_mae: 0.0255\n",
            "Epoch 49/50\n",
            "\u001b[1m2495/2495\u001b[0m \u001b[32m━━━━━━━━━━━━━━━━━━━━\u001b[0m\u001b[37m\u001b[0m \u001b[1m1s\u001b[0m 437us/step - loss: 0.0013 - mae: 0.0261 - val_loss: 0.0012 - val_mae: 0.0245\n",
            "Epoch 50/50\n",
            "\u001b[1m2495/2495\u001b[0m \u001b[32m━━━━━━━━━━━━━━━━━━━━\u001b[0m\u001b[37m\u001b[0m \u001b[1m1s\u001b[0m 433us/step - loss: 0.0012 - mae: 0.0260 - val_loss: 0.0012 - val_mae: 0.0247\n"
          ]
        }
      ],
      "source": [
        "\n",
        "# 构建并训练最终模型\n",
        "model = tuner.hypermodel.build(best_hps)\n",
        "history = model.fit(X_train_scaled, Y_train_scaled,\n",
        "                    epochs=50,\n",
        "                    validation_split=0.1,\n",
        "                    callbacks=[keras.callbacks.EarlyStopping(patience=10)])"
      ]
    },
    {
      "cell_type": "code",
      "execution_count": null,
      "metadata": {
        "id": "vTPtKwmzY2Rp"
      },
      "outputs": [],
      "source": []
    },
    {
      "cell_type": "code",
      "execution_count": 33,
      "metadata": {
        "colab": {
          "base_uri": "https://localhost:8080/",
          "height": 430
        },
        "id": "Cb--9voaULyo",
        "outputId": "1ab4d78f-6a30-454c-ced3-aedb5c3b4ec7"
      },
      "outputs": [
        {
          "data": {
            "image/png": "[encoded data removed]",
            "text/plain": [
              "<Figure size 640x480 with 1 Axes>"
            ]
          },
          "metadata": {},
          "output_type": "display_data"
        }
      ],
      "source": [
        "plt.plot(range(0,50), history.history['loss'], c='k', label='training')\n",
        "plt.plot(range(0,50), history.history['val_loss'], c='r', label='validation')\n",
        "plt.legend()\n",
        "plt.show()"
      ]
    },
    {
      "cell_type": "markdown",
      "metadata": {
        "id": "pIbSenN7WOnW"
      },
      "source": [
        "Model"
      ]
    },
    {
      "cell_type": "code",
      "execution_count": 40,
      "metadata": {
        "colab": {
          "base_uri": "https://localhost:8080/",
          "height": 298
        },
        "id": "Ng9voabZW44g",
        "outputId": "c9e60e9b-1492-4242-8144-7d2d6cf4f2bb"
      },
      "outputs": [
        {
          "data": {
            "text/html": [
              "<pre style=\"white-space:pre;overflow-x:auto;line-height:normal;font-family:Menlo,'DejaVu Sans Mono',consolas,'Courier New',monospace\"><span style=\"font-weight: bold\">Model: \"sequential_32\"</span>\n",
              "</pre>\n"
            ],
            "text/plain": [
              "\u001b[1mModel: \"sequential_32\"\u001b[0m\n"
            ]
          },
          "metadata": {},
          "output_type": "display_data"
        },
        {
          "data": {
            "text/html": [
              "<pre style=\"white-space:pre;overflow-x:auto;line-height:normal;font-family:Menlo,'DejaVu Sans Mono',consolas,'Courier New',monospace\">┏━━━━━━━━━━━━━━━━━━━━━━━━━━━━━━━━━┳━━━━━━━━━━━━━━━━━━━━━━━━┳━━━━━━━━━━━━━━━┓\n",
              "┃<span style=\"font-weight: bold\"> Layer (type)                    </span>┃<span style=\"font-weight: bold\"> Output Shape           </span>┃<span style=\"font-weight: bold\">       Param # </span>┃\n",
              "┡━━━━━━━━━━━━━━━━━━━━━━━━━━━━━━━━━╇━━━━━━━━━━━━━━━━━━━━━━━━╇━━━━━━━━━━━━━━━┩\n",
              "│ dense_97 (<span style=\"color: #0087ff; text-decoration-color: #0087ff\">Dense</span>)                │ (<span style=\"color: #00d7ff; text-decoration-color: #00d7ff\">None</span>, <span style=\"color: #00af00; text-decoration-color: #00af00\">64</span>)             │           <span style=\"color: #00af00; text-decoration-color: #00af00\">960</span> │\n",
              "├─────────────────────────────────┼────────────────────────┼───────────────┤\n",
              "│ dense_98 (<span style=\"color: #0087ff; text-decoration-color: #0087ff\">Dense</span>)                │ (<span style=\"color: #00d7ff; text-decoration-color: #00d7ff\">None</span>, <span style=\"color: #00af00; text-decoration-color: #00af00\">192</span>)            │        <span style=\"color: #00af00; text-decoration-color: #00af00\">12,480</span> │\n",
              "├─────────────────────────────────┼────────────────────────┼───────────────┤\n",
              "│ dropout_32 (<span style=\"color: #0087ff; text-decoration-color: #0087ff\">Dropout</span>)            │ (<span style=\"color: #00d7ff; text-decoration-color: #00d7ff\">None</span>, <span style=\"color: #00af00; text-decoration-color: #00af00\">192</span>)            │             <span style=\"color: #00af00; text-decoration-color: #00af00\">0</span> │\n",
              "├─────────────────────────────────┼────────────────────────┼───────────────┤\n",
              "│ dense_99 (<span style=\"color: #0087ff; text-decoration-color: #0087ff\">Dense</span>)                │ (<span style=\"color: #00d7ff; text-decoration-color: #00d7ff\">None</span>, <span style=\"color: #00af00; text-decoration-color: #00af00\">1</span>)              │           <span style=\"color: #00af00; text-decoration-color: #00af00\">193</span> │\n",
              "└─────────────────────────────────┴────────────────────────┴───────────────┘\n",
              "</pre>\n"
            ],
            "text/plain": [
              "┏━━━━━━━━━━━━━━━━━━━━━━━━━━━━━━━━━┳━━━━━━━━━━━━━━━━━━━━━━━━┳━━━━━━━━━━━━━━━┓\n",
              "┃\u001b[1m \u001b[0m\u001b[1mLayer (type)                   \u001b[0m\u001b[1m \u001b[0m┃\u001b[1m \u001b[0m\u001b[1mOutput Shape          \u001b[0m\u001b[1m \u001b[0m┃\u001b[1m \u001b[0m\u001b[1m      Param #\u001b[0m\u001b[1m \u001b[0m┃\n",
              "┡━━━━━━━━━━━━━━━━━━━━━━━━━━━━━━━━━╇━━━━━━━━━━━━━━━━━━━━━━━━╇━━━━━━━━━━━━━━━┩\n",
              "│ dense_97 (\u001b[38;5;33mDense\u001b[0m)                │ (\u001b[38;5;45mNone\u001b[0m, \u001b[38;5;34m64\u001b[0m)             │           \u001b[38;5;34m960\u001b[0m │\n",
              "├─────────────────────────────────┼────────────────────────┼───────────────┤\n",
              "│ dense_98 (\u001b[38;5;33mDense\u001b[0m)                │ (\u001b[38;5;45mNone\u001b[0m, \u001b[38;5;34m192\u001b[0m)            │        \u001b[38;5;34m12,480\u001b[0m │\n",
              "├─────────────────────────────────┼────────────────────────┼───────────────┤\n",
              "│ dropout_32 (\u001b[38;5;33mDropout\u001b[0m)            │ (\u001b[38;5;45mNone\u001b[0m, \u001b[38;5;34m192\u001b[0m)            │             \u001b[38;5;34m0\u001b[0m │\n",
              "├─────────────────────────────────┼────────────────────────┼───────────────┤\n",
              "│ dense_99 (\u001b[38;5;33mDense\u001b[0m)                │ (\u001b[38;5;45mNone\u001b[0m, \u001b[38;5;34m1\u001b[0m)              │           \u001b[38;5;34m193\u001b[0m │\n",
              "└─────────────────────────────────┴────────────────────────┴───────────────┘\n"
            ]
          },
          "metadata": {},
          "output_type": "display_data"
        },
        {
          "data": {
            "text/html": [
              "<pre style=\"white-space:pre;overflow-x:auto;line-height:normal;font-family:Menlo,'DejaVu Sans Mono',consolas,'Courier New',monospace\"><span style=\"font-weight: bold\"> Total params: </span><span style=\"color: #00af00; text-decoration-color: #00af00\">40,901</span> (159.77 KB)\n",
              "</pre>\n"
            ],
            "text/plain": [
              "\u001b[1m Total params: \u001b[0m\u001b[38;5;34m40,901\u001b[0m (159.77 KB)\n"
            ]
          },
          "metadata": {},
          "output_type": "display_data"
        },
        {
          "data": {
            "text/html": [
              "<pre style=\"white-space:pre;overflow-x:auto;line-height:normal;font-family:Menlo,'DejaVu Sans Mono',consolas,'Courier New',monospace\"><span style=\"font-weight: bold\"> Trainable params: </span><span style=\"color: #00af00; text-decoration-color: #00af00\">13,633</span> (53.25 KB)\n",
              "</pre>\n"
            ],
            "text/plain": [
              "\u001b[1m Trainable params: \u001b[0m\u001b[38;5;34m13,633\u001b[0m (53.25 KB)\n"
            ]
          },
          "metadata": {},
          "output_type": "display_data"
        },
        {
          "data": {
            "text/html": [
              "<pre style=\"white-space:pre;overflow-x:auto;line-height:normal;font-family:Menlo,'DejaVu Sans Mono',consolas,'Courier New',monospace\"><span style=\"font-weight: bold\"> Non-trainable params: </span><span style=\"color: #00af00; text-decoration-color: #00af00\">0</span> (0.00 B)\n",
              "</pre>\n"
            ],
            "text/plain": [
              "\u001b[1m Non-trainable params: \u001b[0m\u001b[38;5;34m0\u001b[0m (0.00 B)\n"
            ]
          },
          "metadata": {},
          "output_type": "display_data"
        },
        {
          "data": {
            "text/html": [
              "<pre style=\"white-space:pre;overflow-x:auto;line-height:normal;font-family:Menlo,'DejaVu Sans Mono',consolas,'Courier New',monospace\"><span style=\"font-weight: bold\"> Optimizer params: </span><span style=\"color: #00af00; text-decoration-color: #00af00\">27,268</span> (106.52 KB)\n",
              "</pre>\n"
            ],
            "text/plain": [
              "\u001b[1m Optimizer params: \u001b[0m\u001b[38;5;34m27,268\u001b[0m (106.52 KB)\n"
            ]
          },
          "metadata": {},
          "output_type": "display_data"
        }
      ],
      "source": [
        "model.summary()"
      ]
    },
    {
      "cell_type": "code",
      "execution_count": 34,
      "metadata": {
        "id": "3V6sYiaNaMrq"
      },
      "outputs": [],
      "source": [
        "X_test_scaled = scaler_input.transform(X_test)\n",
        "Y_test_scaled = scaler_label.transform(Y_test)"
      ]
    },
    {
      "cell_type": "code",
      "execution_count": 35,
      "metadata": {
        "colab": {
          "base_uri": "https://localhost:8080/"
        },
        "id": "dfcpF8n1ae6K",
        "outputId": "ee9fc0b8-f2e4-4e35-ea8c-daf4ebfc78ce"
      },
      "outputs": [
        {
          "name": "stdout",
          "output_type": "stream",
          "text": [
            "\u001b[1m1189/1189\u001b[0m \u001b[32m━━━━━━━━━━━━━━━━━━━━\u001b[0m\u001b[37m\u001b[0m \u001b[1m0s\u001b[0m 206us/step\n"
          ]
        }
      ],
      "source": [
        "predictions = model.predict(\n",
        "    x=X_test_scaled,\n",
        ")"
      ]
    },
    {
      "cell_type": "code",
      "execution_count": 36,
      "metadata": {
        "id": "3IB3QXKfa5_W"
      },
      "outputs": [],
      "source": [
        "Pre_inverse=scaler_label.inverse_transform(predictions)\n",
        "Y_test_inverse=scaler_label.inverse_transform(Y_test_scaled)"
      ]
    },
    {
      "cell_type": "code",
      "execution_count": null,
      "metadata": {
        "id": "gFB8124YGt7z"
      },
      "outputs": [],
      "source": [
        "def multipl(a,b):\n",
        "    sumofab=0.0\n",
        "    for i in range(len(a)):\n",
        "        temp=a[i]*b[i]\n",
        "        sumofab+=temp\n",
        "    return sumofab\n",
        "def correlation(x, y):\n",
        "    n = len(x)\n",
        "    sum1 = sum(x)\n",
        "    sum2 = sum(y)\n",
        "    sumofxy = multipl(x, y)\n",
        "    sumofx2 = sum([pow(i, 2) for i in x])\n",
        "    sumofy2 = sum([pow(j, 2) for j in y])\n",
        "    num = sumofxy - (float(sum1) * float(sum2) / n)\n",
        "    den = np.sqrt((sumofx2 - float(sum1 ** 2) / n) * (sumofy2 - float(sum2 ** 2) / n))\n",
        "    r = num / den\n",
        "    r2 = r * r\n",
        "    return str('%.2f' % (r2))\n",
        "\n",
        "def regress(x,y):\n",
        "    from sklearn import  linear_model\n",
        "    regr = linear_model.LinearRegression()\n",
        "    t = np.array(x)\n",
        "    t = np.array([x]).T\n",
        "    regr.fit(t, y)\n",
        "    #k = str('%.2f'%(regr.intercept_))\n",
        "    #b = str('%.2f'%(regr.coef_))\n",
        "    k = regr.coef_\n",
        "    b = regr.intercept_\n",
        "    KB = [k,b]\n",
        "    return KB\n",
        "def RMSE(x, y):\n",
        "    rmse = np.sqrt(np.mean((x - y) ** 2))\n",
        "    rmse = round(rmse, 2)\n",
        "    return str('%.2f' % (rmse))\n",
        "\n",
        "\n",
        "def MAE(x, y):\n",
        "    mae = np.mean(abs(x - y))\n",
        "    # mae = np.mean(x - y)\n",
        "    mae = round(mae, 2)\n",
        "    return str('%.2f' % (mae))\n",
        "def plot_data(ax, x, y, Xmin, Xmax, Ymin, Ymax, Xinter, Yinter,Lables):\n",
        "    from matplotlib.colors import LogNorm\n",
        "    # z_min = 0\n",
        "    # z_max = 500\n",
        "    nbins = 100\n",
        "    # global plot\n",
        "    H, xedges, yedges = np.histogram2d(x, y, bins=nbins)\n",
        "    H = np.rot90(H)\n",
        "    H = np.flipud(H)\n",
        "    # H_freq = H / H.sum()\n",
        "    Hmasked = np.ma.masked_where(H == 0, H)  # Mask pixels with a value of zero\n",
        "    z_min_dynamic = Hmasked.min()\n",
        "    z_max_dynamic = Hmasked.max()\n",
        "    z_min = z_min_dynamic\n",
        "    z_min = np.percentile(Hmasked.compressed(), 5)\n",
        "    z_max = np.percentile(Hmasked.compressed(), 95)\n",
        "    # norm = LogNorm(vmin=z_min, vmax=z_max)\n",
        "    plot = ax.pcolormesh(xedges, yedges, Hmasked, cmap='jet', vmin=z_min, vmax=z_max)\n",
        "    cbar = plt.colorbar(plot, ax=ax)\n",
        "    # plot = ax.pcolormesh(xedges, yedges, Hmasked, cmap='jet', norm = LogNorm(vmin=z_min, vmax=z_max))\n",
        "    # pt.colorbar()\n",
        "    # cbar.ax.set_yticklabels(('0', '1', '2', '3', '4','5','6','7','8','9','10'),fontname='Calibri',fontsize=14,fontweight='bold')\n",
        "    # cbar.ax.set_ylabel('Frequency')\n",
        "\n",
        "    # y=x\n",
        "    xx = [Xmin, Xmax]\n",
        "    yy = [Xmin, Xmax]\n",
        "    ax.plot(xx, yy, 'k--', linewidth=2.)\n",
        "\n",
        "    aa = regress(x, y)\n",
        "    ax.plot(x, x * aa[0] + aa[1], 'r', linewidth=1.)\n",
        "    k = str('%.2f' % (aa[0]))\n",
        "    b = str('%.2f' % (aa[1]))\n",
        "    ax.set_ylim(Ymin, Ymax)\n",
        "    ax.set_xlim(Xmin, Xmax)\n",
        "    my_x_ticks = np.arange(Xmin, Xmax + Xinter, Xinter)\n",
        "    my_y_ticks = np.arange(Ymin, Ymax + Yinter, Yinter)\n",
        "    ax.set_xticks(my_x_ticks)\n",
        "    ax.set_yticks(my_y_ticks)\n",
        "    ax.set_xlabel(Lables[0], fontname='Calibri', fontsize=16)\n",
        "    ax.set_ylabel(Lables[1], fontname='Calibri', fontsize=16)\n",
        "\n",
        "    ax.set_xlabel(Lables[0], fontname='Calibri', fontsize=16)\n",
        "    ax.set_ylabel(Lables[1], fontname='Calibri', fontsize=16)\n",
        "    ax.text(Xmin + Xinter / 3, Ymax - Yinter / 3, r\"N = \" + str(len(x)),\n",
        "            {'color': 'k', 'fontname': 'Calibri', 'fontsize': 14, 'fontweight': 'bold'})\n",
        "    ax.text(Xmin + Xinter / 3, Ymax - 2 * Yinter / 3, r\"R$^2$ = \" + correlation(x, y),\n",
        "            {'color': 'k', 'fontname': 'Calibri', 'fontsize': 14, 'fontweight': 'bold'})\n",
        "    ax.text(Xmin + Xinter / 3, Ymax - 3 * Yinter / 3, r\"RMSE = \" + RMSE(x, y),\n",
        "            {'color': 'k', 'fontname': 'Calibri', 'fontsize': 14, 'fontweight': 'bold'})\n",
        "    ax.text(Xmin + Xinter / 3, Ymax - 4 * Yinter / 3, r\"MAE = \" + MAE(x, y),\n",
        "            {'color': 'k', 'fontname': 'Calibri', 'fontsize': 14, 'fontweight': 'bold'})\n",
        "    ax.text(Xmin + Xinter / 3, Ymax - 5 * Yinter / 3, r\"Y = \" + k + \" X + \" + b,\n",
        "            {'color': 'k', 'fontname': 'Calibri', 'fontsize': 14, 'fontweight': 'bold'})\n",
        "    ax.set_title(Lables[2])\n",
        "    # plt.colorbar()\n",
        "    result = [len(x), correlation(x, y), RMSE(x, y), MAE(x, y), k, b]\n",
        "    return result\n",
        "def scatterplot(ax, Xdata, Ydata, Xmin, Xmax, Ymin, Ymax, Xinter, Yinter,Lables):\n",
        "    from scipy.stats import gaussian_kde\n",
        "    xy = np.vstack([Xdata, Ydata])  # \n",
        "    z = gaussian_kde(xy)(xy)  #\n",
        "    # Sort the points by density, so that the densest points are plotted last\n",
        "    idx = z.argsort()\n",
        "    x, y, z = Xdata[idx], Ydata[idx], z[idx]\n",
        "\n",
        "    plt.scatter(x, y, c=z, s=10, cmap='jet')  # c表示标记的颜色\n",
        "    xx = [Xmin, Xmax]\n",
        "    yy = [Xmin, Xmax]\n",
        "    ax.plot(xx, yy, 'k--', linewidth=0.5)\n",
        "    aa = regress(x, y)\n",
        "    # ax.plot(x, x * aa[0] + aa[1], 'k', linewidth=0.5)\n",
        "    k = str('%.2f' % (aa[0]))\n",
        "    b = str('%.2f' % (aa[1]))\n",
        "    ax.set_ylim(Ymin, Ymax)\n",
        "    ax.set_xlim(Xmin, Xmax)\n",
        "    my_x_ticks = np.arange(Xmin, Xmax + Xinter, Xinter)\n",
        "    my_y_ticks = np.arange(Ymin, Ymax + Yinter, Yinter)\n",
        "    ax.set_xticks(my_x_ticks)\n",
        "    ax.set_yticks(my_y_ticks)\n",
        "    # ax.set_xticklabels(('0', '5', '10', '15', '20'), fontname='Calibri', fontsize=16)\n",
        "    # ax.set_yticklabels(('0', '5', '10', '15', '20'), fontname='Calibri', fontsize=16)\n",
        "    ax.set_xlabel(Lables[0], fontname='Calibri', fontsize=16)\n",
        "    ax.set_ylabel(Lables[1], fontname='Calibri', fontsize=16)\n",
        "    ax.text(Xmin+Xinter/3, Ymax-Yinter/3, r\"N = \" + str(len(Xdata)),\n",
        "            {'color': 'k', 'fontname': 'Calibri', 'fontsize': 14, 'fontweight': 'bold'})\n",
        "    ax.text(Xmin+Xinter/3, Ymax-2*Yinter/3, r\"R$^2$ = \" + correlation(Xdata, Ydata),\n",
        "            {'color': 'k', 'fontname': 'Calibri', 'fontsize': 14, 'fontweight': 'bold'})\n",
        "    ax.text(Xmin+Xinter/3, Ymax-3*Yinter/3, r\"RMSE = \" + RMSE(Xdata, Ydata),\n",
        "            {'color': 'k', 'fontname': 'Calibri', 'fontsize': 14, 'fontweight': 'bold'})\n",
        "    ax.text(Xmin+Xinter/3, Ymax-4*Yinter/3, r\"MAE = \" + MAE(Xdata, Ydata),\n",
        "            {'color': 'k', 'fontname': 'Calibri', 'fontsize': 14, 'fontweight': 'bold'})\n",
        "    ax.text(Xmin+Xinter / 3, Ymax - 5 * Yinter / 3, r\"Y = \"+k+\" X + \"+b,\n",
        "            {'color': 'k', 'fontname': 'Calibri', 'fontsize': 14, 'fontweight': 'bold'})\n",
        "    ax.set_title(Lables[2])\n",
        "    plt.colorbar()\n",
        "    result=[len(Xdata),correlation(Xdata, Ydata),RMSE(Xdata, Ydata),MAE(Xdata, Ydata),k,b]\n",
        "    return result"
      ]
    },
    {
      "cell_type": "code",
      "execution_count": 38,
      "metadata": {
        "id": "yYFc-WMiOezv"
      },
      "outputs": [],
      "source": [
        "Y_test_inverse2=Y_test_inverse.reshape(-1)\n",
        "Pre_inverse2=Pre_inverse.reshape(-1)"
      ]
    },
    {
      "cell_type": "code",
      "execution_count": null,
      "metadata": {
        "colab": {
          "base_uri": "https://localhost:8080/",
          "height": 935
        },
        "id": "cw7QNTIVP-q9",
        "outputId": "d93cbe3a-611e-4b75-aec7-46b918596590"
      },
      "outputs": [],
      "source": [
        "fig, ax = plt.subplots()\n",
        "result_sites = scatterplot(ax, Y_test_inverse2, Pre_inverse2, 0, 1000, 0, 1000, 200, 200,\n",
        "                               ['Measured DLR(W/m$^2$)', 'Prediction(W/m$^2$)',   'all sky'])"
      ]
    },
    {
      "cell_type": "code",
      "execution_count": 39,
      "metadata": {
        "colab": {
          "base_uri": "https://localhost:8080/",
          "height": 935
        },
        "id": "SvdFOgHcGvU7",
        "outputId": "4f09d869-1d47-47a9-9dd8-fa4844e8ca9a"
      },
      "outputs": [
        {
          "name": "stderr",
          "output_type": "stream",
          "text": [
            "/var/folders/n1/zydkpbg91lb27p4jtp0w1q340000gq/T/ipykernel_63148/304093471.py:74: DeprecationWarning: Conversion of an array with ndim > 0 to a scalar is deprecated, and will error in future. Ensure you extract a single element from your array before performing this operation. (Deprecated NumPy 1.25.)\n",
            "  k = str('%.2f' % (aa[0]))\n",
            "findfont: Font family 'Calibri' not found.\n",
            "findfont: Font family ['Calibri'] not found. Falling back to DejaVu Sans.\n",
            "findfont: Font family 'Calibri' not found.\n",
            "findfont: Font family 'Calibri' not found.\n",
            "findfont: Font family 'Calibri' not found.\n",
            "findfont: Font family ['Calibri'] not found. Falling back to DejaVu Sans.\n",
            "findfont: Font family 'Calibri' not found.\n",
            "findfont: Font family 'Calibri' not found.\n",
            "findfont: Font family 'Calibri' not found.\n",
            "findfont: Font family 'Calibri' not found.\n",
            "findfont: Font family 'Calibri' not found.\n",
            "findfont: Font family 'Calibri' not found.\n",
            "findfont: Font family 'Calibri' not found.\n",
            "findfont: Font family 'Calibri' not found.\n",
            "findfont: Font family 'Calibri' not found.\n",
            "findfont: Font family 'Calibri' not found.\n",
            "findfont: Font family 'Calibri' not found.\n",
            "findfont: Font family 'Calibri' not found.\n",
            "findfont: Font family 'Calibri' not found.\n",
            "findfont: Font family 'Calibri' not found.\n",
            "findfont: Font family 'Calibri' not found.\n",
            "findfont: Font family 'Calibri' not found.\n"
          ]
        },
        {
          "data": {
            "image/png": "[encoded data removed]",
            "text/plain": [
              "<Figure size 640x480 with 2 Axes>"
            ]
          },
          "metadata": {},
          "output_type": "display_data"
        }
      ],
      "source": [
        "fig, ax = plt.subplots()\n",
        "result_sites=plot_data(ax, Y_test_inverse2, Pre_inverse2,0, 1000, 0, 1000, 200, 200, ['Measured DLR(W/m$^2$)', 'DLR Prediction(W/m$^2$)', 'Random'+ ':all sky '])\n"
      ]
    },
    {
      "cell_type": "code",
      "execution_count": 41,
      "metadata": {
        "id": "X6Zjls18MUZA"
      },
      "outputs": [
        {
          "name": "stderr",
          "output_type": "stream",
          "text": [
            "WARNING:absl:You are saving your model as an HDF5 file via `model.save()` or `keras.saving.save_model(model)`. This file format is considered legacy. We recommend using instead the native Keras format, e.g. `model.save('my_model.keras')` or `keras.saving.save_model(model, 'my_model.keras')`. \n"
          ]
        }
      ],
      "source": [
        "model.save('ann_model_DLR_5Folds.h5')"
      ]
    }
  ],
  "metadata": {
    "colab": {
      "provenance": []
    },
    "kernelspec": {
      "display_name": "keras-tf-v2025",
      "language": "python",
      "name": "python3"
    },
    "language_info": {
      "codemirror_mode": {
        "name": "ipython",
        "version": 3
      },
      "file_extension": ".py",
      "mimetype": "text/x-python",
      "name": "python",
      "nbconvert_exporter": "python",
      "pygments_lexer": "ipython3",
      "version": "3.12.8"
    }
  },
  "nbformat": 4,
  "nbformat_minor": 0
}
